{
 "metadata": {
  "language_info": {
   "codemirror_mode": {
    "name": "ipython",
    "version": 3
   },
   "file_extension": ".py",
   "mimetype": "text/x-python",
   "name": "python",
   "nbconvert_exporter": "python",
   "pygments_lexer": "ipython3",
   "version": "3.9.0-final"
  },
  "orig_nbformat": 2,
  "kernelspec": {
   "name": "python3",
   "display_name": "Python 3.9.0 64-bit",
   "metadata": {
    "interpreter": {
     "hash": "b2f436b06ddc0c40462c8bf447e888e015242cca8e6db56360afb5c0f1b788c8"
    }
   }
  }
 },
 "nbformat": 4,
 "nbformat_minor": 2,
 "cells": [
  {
   "source": [
    "# `earthorbit` library tutorial: cubesat simulation walkthrought\n",
    "This Jupyter notebook will guide you throught the entire simulation of a cubesat. You will learn how to:\n",
    "- Create the informations of your simulation (groundstations, regions of interest)\n",
    "- Create the informations of your satellite (commands to be executed, hardware destination for these commands)\n",
    "- Gather the orbital informations for your satellite and append the orbit into the script\n",
    "- Make a simulation of this orbit during a period of time, will generate events related to sky events, groundstation events, ROI events\n",
    "- Append commands to be send to satellite, and target attitudes suring simulation\n",
    "- Generate VTS (CNES software) files for this simulation in order to visualise and make verifications\n",
    "- Generate a final `.json` file containing all the commands to be executed by satellite in order to do everything you asked. File ready to be converted into binary file."
   ],
   "cell_type": "markdown",
   "metadata": {}
  },
  {
   "source": [
    "# Before starting\n",
    "\n",
    "- The library uses `arrow` for time manipulation, `pyquaternion` for quaternion manipulation, and `numpy` of course.\n",
    "- All units for physical values are specified *everywhere.* If it is not the case, consider using SI units.\n",
    "- GCRS means Geocentric Celestial Reference System: Frame where origin is mass center of Earth, `x` along vernal point, `z` along north pole\n",
    "- ITRS MEANS International Terrestial Reference System: Frame where origin is mass center of Earth `x` is along `(0°, 0°)` GPS location, `z` along north pole"
   ],
   "cell_type": "markdown",
   "metadata": {}
  },
  {
   "cell_type": "code",
   "execution_count": 1,
   "metadata": {},
   "outputs": [],
   "source": [
    "import sys\n",
    "import json\n",
    "import os\n",
    "\n",
    "from earthorbit.attitude import Attitude\n",
    "from earthorbit.simulation import Simulation\n",
    "from earthorbit.orbit import Orbit\n",
    "from earthorbit.macro import Macro\n",
    "from earthorbit.maths import Maths\n",
    "from earthorbit.timeconversion import TimeConversion\n",
    "from earthorbit.vts import Vts\n",
    "\n",
    "import numpy as np\n",
    "import arrow\n",
    "import matplotlib.image as mpimg\n",
    "import pyquaternion as pq"
   ]
  },
  {
   "source": [
    "# Gather information for simulation\n",
    "## Groundstations (GS) informations\n",
    "Groundstations informations are stored in a .json file inside the directory. \n",
    "`.json` file is a list containing objets. Objets has to have this syntax\n",
    "```json\n",
    "{\n",
    "        \"name\": \"your_gs_name_here\", \n",
    "        \"lon\": 0,\n",
    "        \"lat\": 0,\n",
    "        \"distance\": 123456,\n",
    "        \"semi_angle_visibility\": 3.141592653589793,\n",
    "        \"color\": \"#3030a0\"\n",
    "}\n",
    "```\n",
    "\n",
    "`lon` `lat` elements are longitude and latitude for GS. value is float, unit degree \\[°\\]\n",
    "\n",
    "`distance` element is altitude for GS. value is float, unit meter \\[m\\]\n",
    "\n",
    "`semi_angle_visibility` element is the maximum angle (radial vector, vector from GS to satellite) where satellite is visible by GS \\[rad\\]\n",
    "\n",
    "`color` element is a hexadecimal color stored in a string. chose whatever your want. this can be used for UI\n",
    "\n",
    "Now load the file and store it inside a variable"
   ],
   "cell_type": "markdown",
   "metadata": {}
  },
  {
   "cell_type": "code",
   "execution_count": 2,
   "metadata": {},
   "outputs": [],
   "source": [
    "gs_file = open(\"groundstations.json\", \"r\")\n",
    "gs = json.loads(gs_file.read())"
   ]
  },
  {
   "source": [
    "## Region Of Interest (ROI) informations for simulation\n",
    "ROI are areas that can be detected when flightover by satellite.\n",
    "\n",
    "Each ROI is stored inside `.bmp` (bitmap) file, size `360x180,` where each pixel covers an area of `1°x1°` of the equirectangular projection of the Earth.\n",
    "\n",
    "If a pixel is red in this file, the area corresponding will be asigned to this ROI. The top-left pixel `(0,0)` corresponds to coordinates `(lon=-180°, lat=90°).`\n",
    "The bottom-left pixel `(0, 180)` corresponds to coordinates `(lon=-180°, lat=-90°)`\n",
    "The middle pixel `(180, 90)` corresponds to coordinates `(lon=0°, lat=0°)`\n",
    "\n",
    "It is recommended, in order to manually draw your ROI, to use a software --such as **MS Paint** on Windows-- that can edit and save files to `.bmp` format.\n",
    "A useful template for creating a ROI this way can be found in the directory 'files'\n",
    "\n",
    "FYI: make sure to save the file with \"Save as...\" in order not to overwrite the template and make it unnusable again"
   ],
   "cell_type": "markdown",
   "metadata": {}
  },
  {
   "cell_type": "code",
   "execution_count": 3,
   "metadata": {},
   "outputs": [],
   "source": [
    "roi = [] # list that will contain the filenames for ROIs\n",
    "\n",
    "for filename in os.listdir(): # loop for all the files in directory, to gather the file names of your images\n",
    "    if filename.endswith(\".bmp\"): # we assume if filename ends with '.bmp' it is a file used for ROI\n",
    "        roi.append(filename)"
   ]
  },
  {
   "source": [
    "## Commands list for satellite\n",
    "Commands used by satellite are stored in `.json` file.\n",
    "\n",
    "`.json` file is an object where each key is the ID of the command, and its value is an object with two elements:\n",
    "- `name` element is a string, containing the name of the command\n",
    "- `args` element is a list, where its elements are string. These corresponds to the TYPE of the argument that has to be passed to the satellite for command execution. Careful, position of the strings therefore matter!\n",
    "\n",
    "### Example:\n",
    "```json\n",
    "{\n",
    "    \"0\": {\n",
    "        \"name\": \"BOOT\",\n",
    "        \"args\": [\n",
    "            \"uint8\",\n",
    "            \"float\"\n",
    "        ]\n",
    "    },\n",
    "    \"1234\": {\n",
    "        \"name\": \"HELLO_WORLD\",\n",
    "        \"args\": []\n",
    "    },\n",
    "    \"1\": {\n",
    "        \"name\": \"TAKE_PIC\",\n",
    "        \"args\": [\n",
    "            \"uint8\"\n",
    "        ]\n",
    "    },\n",
    "    \"2\": {\n",
    "        \"name\": \"SEND_PIC\",\n",
    "        \"args\": [\n",
    "            \"bool\"\n",
    "        ]\n",
    "    }\n",
    "}\n",
    "```\n",
    "\n",
    "As before, we load the file and parse it into a Python dictionary\n"
   ],
   "cell_type": "markdown",
   "metadata": {}
  },
  {
   "cell_type": "code",
   "execution_count": 4,
   "metadata": {},
   "outputs": [],
   "source": [
    "commands_file = open(\"commands.json\", \"r\")\n",
    "commands = json.loads(commands_file.read())"
   ]
  },
  {
   "source": [
    "## Destination list for satellite\n",
    "\n",
    "Destinations available where to send the commands.\n",
    "\n",
    "`.json` file is an object where each key is the ID of the destination, and its value is a string corresponding to the display name of the destination\n",
    "\n",
    "### Example:\n",
    "```json\n",
    "{\n",
    "    \"0\": \"SOMEWHERE\",\n",
    "    \"1\": \"ANOTHER_DESTINATION\"\n",
    "}\n",
    "```"
   ],
   "cell_type": "markdown",
   "metadata": {}
  },
  {
   "cell_type": "code",
   "execution_count": 5,
   "metadata": {},
   "outputs": [],
   "source": [
    "destinations_file = open(\"destinations.json\", \"r\")\n",
    "destinations = json.loads(destinations_file.read())"
   ]
  },
  {
   "source": [
    "## Get initial orientation of satellite\n",
    "\n",
    "In order to make correct computations, you have to know how your satellite is oriented into space.\n",
    "For this you have to compute by yourself the orientation quaternion of the satellite for the beggining of simulation.\n",
    "\n",
    "*NB: the satellite's camera is located along the `x` axis*"
   ],
   "cell_type": "markdown",
   "metadata": {}
  },
  {
   "cell_type": "code",
   "execution_count": 6,
   "metadata": {},
   "outputs": [],
   "source": [
    "start_attitude_quat = pq.Quaternion(w=0, x=1, y=0, z=0) # quaternion rotation in GCRS. for this example the rotation quaternion is null, which means the x axis of satellite will be along x axis of GCRS coordinates"
   ]
  },
  {
   "source": [
    "# Creation of the orbit\n",
    "Now is time to create the orbit of your satellite. You can do so by many ways, and we are going to give you an example for each way.\n",
    "\n",
    "- CATNR (catalog number for Celestrak.com)\n",
    "- classical orbit elements (semi major axis, eccentricity, raan, arg of periaster, inclination, mean motion, mean anomaly, and epoch)\n",
    "- state vectors at given epoch (position in  \\[m\\], velocity in \\[m/s\\])\n",
    "- TLE string"
   ],
   "cell_type": "markdown",
   "metadata": {}
  },
  {
   "cell_type": "code",
   "execution_count": 7,
   "metadata": {},
   "outputs": [],
   "source": [
    "epoch = arrow.utcnow() # firstly we gather the current time"
   ]
  },
  {
   "source": [
    "## From classical elements\n",
    "angles should be in \\[rad\\], mean motion should be in \\[rad/s\\], and epoch should be an `arrow` Python object\n"
   ],
   "cell_type": "markdown",
   "metadata": {}
  },
  {
   "cell_type": "code",
   "execution_count": 8,
   "metadata": {},
   "outputs": [],
   "source": [
    "e = 0.0000452\n",
    "i = np.deg2rad(51.6462) # conversion [°] -> [rad]\n",
    "raan = np.deg2rad(33.4496) # conversion [°] -> [rad]\n",
    "argp = np.deg2rad(211.9192) # conversion [°] -> [rad]\n",
    "M = np.deg2rad(275.9732) # conversion [°] -> [rad]\n",
    "n = TimeConversion.revperday2radpersec(15.49281578) # conversion [rev/day] -> [rad/s]\n",
    "\n",
    "orbit = Orbit(epoch, e, i, raan, argp, n, M, \"ISS_test_1!\")"
   ]
  },
  {
   "source": [
    "## From state vectors\n",
    "position in \\[m\\], velocity in \\[m/s\\]"
   ],
   "cell_type": "markdown",
   "metadata": {}
  },
  {
   "cell_type": "code",
   "execution_count": 9,
   "metadata": {},
   "outputs": [],
   "source": [
    "pos = np.array([-3819725.8559629 , -4986069.94117591, -2596794.58492448])\n",
    "vel = np.array([5403.09180268, -1402.73349405, -5242.91201507])\n",
    "\n",
    "orbit = Orbit.from_state_vectors(pos, vel, epoch, name=\"ISS_test_2!\")"
   ]
  },
  {
   "source": [
    "## From TLE"
   ],
   "cell_type": "markdown",
   "metadata": {}
  },
  {
   "cell_type": "code",
   "execution_count": 10,
   "metadata": {},
   "outputs": [],
   "source": [
    "tle = \"\"\"ISS (ZARYA)\n",
    "1 25544U 98067A   21012.36590653  .00001229  00000+0  30152-4 0  9991\n",
    "2 25544  51.6462  33.4496 0000452 211.9192 275.9732 15.49281578264446\"\"\"\n",
    "\n",
    "orbit = Orbit.from_tle(tle)"
   ]
  },
  {
   "source": [
    "## From Celestrak .json\n",
    "You can also make your own request to Celestrak and copy/paste the `.json` result as a string"
   ],
   "cell_type": "markdown",
   "metadata": {}
  },
  {
   "cell_type": "code",
   "execution_count": 11,
   "metadata": {},
   "outputs": [],
   "source": [
    "str_json = '[{\"OBJECT_NAME\":\"ISS (ZARYA)\",\"OBJECT_ID\":\"1998-067A\",\"EPOCH\":\"2021-01-12T08:46:54.324192\",\"MEAN_MOTION\":15.49281578,\"ECCENTRICITY\":4.52e-5,\"INCLINATION\":51.6462,\"RA_OF_ASC_NODE\":33.4496,\"ARG_OF_PERICENTER\":211.9192,\"MEAN_ANOMALY\":275.9732,\"EPHEMERIS_TYPE\":0,\"CLASSIFICATION_TYPE\":\"U\",\"NORAD_CAT_ID\":25544,\"ELEMENT_SET_NO\":999,\"REV_AT_EPOCH\":26444,\"BSTAR\":3.0152e-5,\"MEAN_MOTION_DOT\":1.229e-5,\"MEAN_MOTION_DDOT\":0}]'\n",
    "\n",
    "orbit = Orbit.from_celestrak_json(str_json)"
   ]
  },
  {
   "source": [
    "## From CATNR\n",
    "The easiest way. If you know your satellite catalog number (example: 25544 for ISS)\n",
    "IMPORTANT: This method makes a request to Celestrak.com. Therefore you have to be connected to the internet for this way to work!"
   ],
   "cell_type": "markdown",
   "metadata": {}
  },
  {
   "cell_type": "code",
   "execution_count": 12,
   "metadata": {},
   "outputs": [],
   "source": [
    "catnr = 25544 # catalog number for ISS\n",
    "orbit = Orbit.from_celestrak_norad_cat_id(catnr) # give the CATNR in the argument. and voilà!"
   ]
  },
  {
   "cell_type": "code",
   "execution_count": 13,
   "metadata": {},
   "outputs": [
    {
     "output_type": "stream",
     "name": "stdout",
     "text": [
      "Orbital elements of satellite:\n{'eccentricity': 0.0002287, 'inclination': 0.9014049627897555, 'ra_of_asc_node': 5.831199136119866, 'arg_of_pericenter': 4.959639303539214, 'mean_motion': 0.0011263784655132878, 'mean_anomaly': 3.1913973691247035, 'semi_major_axis': 6798133.663153308, 'mm_taylor1': 1.590794891140665e-14, 'mm_taylor2': 0.0, 'time_at_periaster': 1611474706.6740205, 'semi_minor_axis': 6798133.485369568}\n"
     ]
    }
   ],
   "source": [
    "# You can print the orbit informations to make sure it is ok\n",
    "print(\"Orbital elements of satellite:\")\n",
    "print(orbit.orbital_elements)"
   ]
  },
  {
   "source": [
    "# Orbit simulation\n",
    "\n",
    "Now that the orbit is created, it is time to to make a simulation for a given amount of time.\n",
    "For the purpose of this example, we are going to make a simulation from now, for a duration of 7 days\n",
    "We are going to use the informations about groundstations, ROI, commands, etc. \n",
    "\n",
    "We are going to use the `Simulation` class of our library. Here is the list of the parameters\n",
    "\n",
    "- the actual orbit\n",
    "- the epoch corresponding to beggining of simulation\n",
    "- the duration of simulation \\[s\\]\n",
    "- the name for the simulation (string)\n",
    "- groundstation informations we gathered above\n",
    "- roi images we gathered above\n",
    "- `print_progress` optional boolean parameter to prompt into console the progress of simulation (recommended because simulation can take up to few minutes!)\n",
    "- `step_time` optional int parameter >= 1; the delta time of simulation"
   ],
   "cell_type": "markdown",
   "metadata": {}
  },
  {
   "cell_type": "code",
   "execution_count": 14,
   "metadata": {},
   "outputs": [
    {
     "output_type": "stream",
     "name": "stdout",
     "text": [
      "Simulation for 'ISS' beggining:\n",
      "█████████████████████████████████████████████████████████████\n",
      "Done! Time ellapsed during computation: 58.3125 seconds\n"
     ]
    }
   ],
   "source": [
    "simu = Simulation(orbit, orbit.epoch, 60*60*24, \"ISS\", gs, roi, print_progress=True)"
   ]
  },
  {
   "source": [
    "Now the simulation is completed! For each time step we have a timestamp containing all of the infos for the satellite\n",
    "(aka position/velocity in GCRS, ITRS, GPS coordinates, Sun/Moon/GS visible, above what ROI, etc.)\n",
    "\n",
    "Here are a few examples of what you can do with the simulation."
   ],
   "cell_type": "markdown",
   "metadata": {}
  },
  {
   "cell_type": "code",
   "execution_count": 17,
   "metadata": {},
   "outputs": [
    {
     "output_type": "stream",
     "name": "stdout",
     "text": [
      "{'sat_pos_gcrs': array([-459380.89039261, 4605000.52813632, 4981822.57593592]), 'sat_pos_itrs': array([-4296832.25901028, -1718805.74950234,  4981822.57593592]), 'sat_pos_gps': array([ 6.79967770e+06, -1.58197753e+02,  4.71094946e+01]), 'sat_vel_gcrs': array([-7173.57852833,  1597.05985882, -2143.90826647]), 'moon_pos_gcrs': array([3.91172240e+07, 3.95035579e+08, 4.21610578e+06]), 'moon_visibility': True, 'sun_pos_gcrs': array([ 1.23700374e+09, -1.58504961e+09, -6.87246126e+08]), 'sun_visibility': False, 'gs_visibilities': {'center': False, 'north': False, 'east': False}, 'gs_pos_gcrs': {'center': array([-1691033.15691693, -6149881.1738908 ,        0.        ]), 'north': array([-1.03545917e-10, -3.76571615e-10,  6.37813700e+06]), 'east': array([ 6149881.1738908 , -1691033.15691694,        0.        ])}, 'roi_visibilities': {'africa': False, 'southmerica': False}}\n"
     ]
    },
    {
     "output_type": "execute_result",
     "data": {
      "text/plain": [
       "{'africa': [{'name': 'africa',\n",
       "   'start_unixepoch': 1611480708,\n",
       "   'stop_unixepoch': 1611480857,\n",
       "   'duration_sec': 149},\n",
       "  {'name': 'africa',\n",
       "   'start_unixepoch': 1611486286,\n",
       "   'stop_unixepoch': 1611487044,\n",
       "   'duration_sec': 758},\n",
       "  {'name': 'africa',\n",
       "   'start_unixepoch': 1611491864,\n",
       "   'stop_unixepoch': 1611493208,\n",
       "   'duration_sec': 1344},\n",
       "  {'name': 'africa',\n",
       "   'start_unixepoch': 1611497892,\n",
       "   'stop_unixepoch': 1611498076,\n",
       "   'duration_sec': 184},\n",
       "  {'name': 'africa',\n",
       "   'start_unixepoch': 1611498590,\n",
       "   'stop_unixepoch': 1611498971,\n",
       "   'duration_sec': 381},\n",
       "  {'name': 'africa',\n",
       "   'start_unixepoch': 1611522521,\n",
       "   'stop_unixepoch': 1611522612,\n",
       "   'duration_sec': 91},\n",
       "  {'name': 'africa',\n",
       "   'start_unixepoch': 1611528099,\n",
       "   'stop_unixepoch': 1611528738,\n",
       "   'duration_sec': 639},\n",
       "  {'name': 'africa',\n",
       "   'start_unixepoch': 1611528876,\n",
       "   'stop_unixepoch': 1611529042,\n",
       "   'duration_sec': 166},\n",
       "  {'name': 'africa',\n",
       "   'start_unixepoch': 1611534087,\n",
       "   'stop_unixepoch': 1611534909,\n",
       "   'duration_sec': 822},\n",
       "  {'name': 'africa',\n",
       "   'start_unixepoch': 1611540151,\n",
       "   'stop_unixepoch': 1611540784,\n",
       "   'duration_sec': 633},\n",
       "  {'name': 'africa',\n",
       "   'start_unixepoch': 1611545802,\n",
       "   'stop_unixepoch': 1611546363,\n",
       "   'duration_sec': 561},\n",
       "  {'name': 'africa',\n",
       "   'start_unixepoch': 1611551910,\n",
       "   'stop_unixepoch': 1611551941,\n",
       "   'duration_sec': 31}],\n",
       " 'southmerica': [{'name': 'southmerica',\n",
       "   'start_unixepoch': 1611509133,\n",
       "   'stop_unixepoch': 1611509712,\n",
       "   'duration_sec': 579},\n",
       "  {'name': 'southmerica',\n",
       "   'start_unixepoch': 1611514890,\n",
       "   'stop_unixepoch': 1611515521,\n",
       "   'duration_sec': 631},\n",
       "  {'name': 'southmerica',\n",
       "   'start_unixepoch': 1611521170,\n",
       "   'stop_unixepoch': 1611521361,\n",
       "   'duration_sec': 191},\n",
       "  {'name': 'southmerica',\n",
       "   'start_unixepoch': 1611527073,\n",
       "   'stop_unixepoch': 1611527243,\n",
       "   'duration_sec': 170},\n",
       "  {'name': 'southmerica',\n",
       "   'start_unixepoch': 1611532922,\n",
       "   'stop_unixepoch': 1611533064,\n",
       "   'duration_sec': 142},\n",
       "  {'name': 'southmerica',\n",
       "   'start_unixepoch': 1611538736,\n",
       "   'stop_unixepoch': 1611538886,\n",
       "   'duration_sec': 150},\n",
       "  {'name': 'southmerica',\n",
       "   'start_unixepoch': 1611544575,\n",
       "   'stop_unixepoch': 1611544822,\n",
       "   'duration_sec': 247},\n",
       "  {'name': 'southmerica',\n",
       "   'start_unixepoch': 1611544905,\n",
       "   'stop_unixepoch': 1611544910,\n",
       "   'duration_sec': 5},\n",
       "  {'name': 'southmerica',\n",
       "   'start_unixepoch': 1611545147,\n",
       "   'stop_unixepoch': 1611545210,\n",
       "   'duration_sec': 63},\n",
       "  {'name': 'southmerica',\n",
       "   'start_unixepoch': 1611550572,\n",
       "   'stop_unixepoch': 1611550597,\n",
       "   'duration_sec': 25},\n",
       "  {'name': 'southmerica',\n",
       "   'start_unixepoch': 1611550613,\n",
       "   'stop_unixepoch': 1611551195,\n",
       "   'duration_sec': 582},\n",
       "  {'name': 'southmerica',\n",
       "   'start_unixepoch': 1611556569,\n",
       "   'stop_unixepoch': 1611556985,\n",
       "   'duration_sec': 416}]}"
      ]
     },
     "metadata": {},
     "execution_count": 17
    }
   ],
   "source": [
    "simu.timestamps # is a list, each element is a dict containing all of the info at an epoch (usually every second)\n",
    "\n",
    "# If you want to know these informations for a given time (let's say 1h after the beggining of simulation) you can retrieve a timestamp like this\n",
    "epoch_onehour_shifted = orbit.epoch.shift(minutes=1) # see 'Arrow' library in Python to know some features for epoch manipulation\n",
    "ts_onehour_shifted = simu.get_closest_timestamp(epoch_onehour_shifted)\n",
    "print(ts_onehour_shifted) # here is printed the dict for a certain epoch, you can see what is in there\n",
    "\n",
    "# You can see the events when each GS is visible by satellite, and when satellite is above each ROI\n",
    "simu.gs_events # events for GS\n",
    "simu.roi_events # events for ROI"
   ]
  },
  {
   "source": [
    "The longer is the simulation, the more it is going to weight in the memory (because every info for every second).\n",
    "This means it is recommended to have enough RAM on your computer (4GB or more recommended).\n",
    "\n",
    "You can see how much memory is used like this:"
   ],
   "cell_type": "markdown",
   "metadata": {}
  },
  {
   "cell_type": "code",
   "execution_count": 18,
   "metadata": {},
   "outputs": [
    {
     "output_type": "stream",
     "name": "stdout",
     "text": [
      "The simulation is taking 55.296MB of memory.\n"
     ]
    }
   ],
   "source": [
    "print(\"The simulation is taking {}MB of memory.\".format(simu.size_simu_MB()))"
   ]
  },
  {
   "source": [
    "# Commands and attitude handling\n",
    "First, you have to know what is the command needed for (QSW) rotation, and the destination.\n",
    "And store the ID of these (corresponding int key of dict) in a tuple: (command id, destination id)"
   ],
   "cell_type": "markdown",
   "metadata": {}
  },
  {
   "cell_type": "code",
   "execution_count": 19,
   "metadata": {},
   "outputs": [],
   "source": [
    "qsw_rot_id = (111, 0) # in this example, the corresponding command rotation is located at the key '111'"
   ]
  },
  {
   "source": [
    "Now we are going to use `Attitude` class of our library to handle commands and orientations. The parameters for instantiation are:\n",
    "\n",
    "- the actual simulation\n",
    "- the list of commands gathered above\n",
    "- the list of destinations gathered above\n",
    "- the orientation attitude you computed above\n",
    "- `av_rot_vel` optional float parameter is the average rotation speed for satellite, given in \\[°/s\\] \n"
   ],
   "cell_type": "markdown",
   "metadata": {}
  },
  {
   "cell_type": "code",
   "execution_count": 20,
   "metadata": {},
   "outputs": [],
   "source": [
    "att = Attitude(simu, commands, destinations, start_attitude_quat, qsw_rot_id, av_rot_vel=0.33)"
   ]
  },
  {
   "source": [
    "## Push commands\n",
    "We are now going to see how to push commands.\n",
    "\n",
    "### Example: you want to execute the command 'HELLO_WORLD' to destination 'SOMEWHERE' at precise epoch\n",
    "You find the corresponding ID of command and destination by printing the list with this command:"
   ],
   "cell_type": "markdown",
   "metadata": {}
  },
  {
   "cell_type": "code",
   "execution_count": 21,
   "metadata": {},
   "outputs": [
    {
     "output_type": "stream",
     "name": "stdout",
     "text": [
      "###################\nCOMMANDS:\n0: '{'name': 'BOOT', 'args': ['uint8', 'float']}'\n10101: '{'name': 'TEST_FX', 'args': ['uint8', 'float', 'bool']}'\n111: '{'name': 'ROT_WITH_QUATERNION', 'args': ['float', 'float', 'float', 'float']}'\n1234: '{'name': 'HELLO_WORLD', 'args': []}'\n1: '{'name': 'TAKE_PIC', 'args': ['uint8']}'\n2: '{'name': 'SEND_PIC', 'args': ['bool']}'\n3: '{'name': 'BEEP_BEEP', 'args': ['int', 'int']}'\n4: '{'name': 'BOOP', 'args': []}'\n------------\nDESTINATIONS:\n0: 'SOMEWHERE'\n1: 'ANOTHER_DESTINATION'\n###################\n"
     ]
    }
   ],
   "source": [
    "att.print_list_commands()"
   ]
  },
  {
   "cell_type": "code",
   "execution_count": 23,
   "metadata": {},
   "outputs": [],
   "source": [
    "id_cmd = 1234\n",
    "id_dest = 0\n",
    "args = [] # this command takes no arguments, so empty list\n",
    "epoch_to_exe = orbit.epoch.shift(minutes=3) # 3 minutes after beggining of simulation, why not\n",
    "\n",
    "pushed_cmd_0 = att.push_command(epoch_to_exe, id_cmd, id_dest, args) # we push the command like this, and the function retunrs the ID assosiated with the push (you have to store it if you want to delete it later)"
   ]
  },
  {
   "source": [
    "That's it! Another example with 'TEST_FX' to 'SOMEWHERE' which takes for argument an integer 'uint8', a float, and a boolean.\n"
   ],
   "cell_type": "markdown",
   "metadata": {}
  },
  {
   "cell_type": "code",
   "execution_count": 24,
   "metadata": {},
   "outputs": [],
   "source": [
    "id_cmd = 10101\n",
    "id_dest = 0\n",
    "args = [32, 12.0, True] # int, float, and boolean\n",
    "epoch_to_exe = epoch_to_exe.shift(minutes=10) # why not again\n",
    "\n",
    "pushed_cmd_1 = att.push_command(epoch_to_exe, id_cmd, id_dest, args)"
   ]
  },
  {
   "source": [
    "You can always see your pushed commands by accessing the list:"
   ],
   "cell_type": "markdown",
   "metadata": {}
  },
  {
   "cell_type": "code",
   "execution_count": 25,
   "metadata": {},
   "outputs": [
    {
     "output_type": "stream",
     "name": "stdout",
     "text": [
      "{'16114971151243057768': {'id': '16114971151243057768', 'cmd': 'HELLO_WORLD', 'dest': 'SOMEWHERE', 'epoch': <Arrow [2021-01-24T08:42:00.791712+00:00]>, 'ts': 1611477720, 'args': []}, '1611497119575189580': {'id': '1611497119575189580', 'cmd': 'TEST_FX', 'dest': 'SOMEWHERE', 'epoch': <Arrow [2021-01-24T08:52:00.791712+00:00]>, 'ts': 1611478320, 'args': [32, 12.0, True]}}\n"
     ]
    }
   ],
   "source": [
    "print(att.cmd_request)"
   ]
  },
  {
   "source": [
    "## Delete pushed commands\n",
    "If you want to delete a pushed command you previously pushed, just use the delete command with the ID returned when command pushing"
   ],
   "cell_type": "markdown",
   "metadata": {}
  },
  {
   "cell_type": "code",
   "execution_count": 26,
   "metadata": {},
   "outputs": [
    {
     "output_type": "execute_result",
     "data": {
      "text/plain": [
       "True"
      ]
     },
     "metadata": {},
     "execution_count": 26
    }
   ],
   "source": [
    "att.del_command(pushed_cmd_1) # this deletes the second pushed command we entered before"
   ]
  },
  {
   "source": [
    "Now you can use all the power of Python to push your commands however you want :)"
   ],
   "cell_type": "markdown",
   "metadata": {}
  },
  {
   "source": [
    "## Push attitude\n",
    "You could rotate your satellite by using the `push_command` function, but a lot of complex calculation is needed for orientation...\n",
    "Hopefully there are special functions for \"rotation related\" commands.\n",
    "\n",
    "### Example: you want your satellite to be oriented along `z` axis in GCRS coordinates (direction from Earth center to north pole), at given epoch."
   ],
   "cell_type": "markdown",
   "metadata": {}
  },
  {
   "cell_type": "code",
   "execution_count": 28,
   "metadata": {},
   "outputs": [],
   "source": [
    "north_dir = np.array([0, 0, 1])\n",
    "north_quat = Maths.get_orientation_quat(north_dir) # function to get the corresponding orientation quaternion from 3D vector direction\n",
    "random_epoch = orbit.epoch.shift(minutes=12) # at this exact epoch, the satellite will be oriented correctly\n",
    "\n",
    "pushed_att_0 = att.push_target(random_epoch, north_quat) # same as command, the ID for the pushed attitude is returned by the function"
   ]
  },
  {
   "source": [
    "But you will probably not use this exact function, because most of the time the desired orientation is not a specific direction, but a direction to something, like the ground (NADIR), Moon, follow a GS, opposite of Sun, etc.\n",
    "\n",
    "Thankfully the library supports this, and this pretty simple."
   ],
   "cell_type": "markdown",
   "metadata": {}
  },
  {
   "cell_type": "code",
   "execution_count": 29,
   "metadata": {},
   "outputs": [
    {
     "output_type": "execute_result",
     "data": {
      "text/plain": [
       "{'1611497095496048223': {'id': '1611497095496048223',\n",
       "  'gcrs_target_quat': Quaternion(0.0, 1.0, 0.0, 0.0),\n",
       "  'epoch': <Arrow [2021-01-24T08:39:00.791712+00:00]>,\n",
       "  'ts': 1611477540},\n",
       " '1611497148652384836': {'id': '1611497148652384836',\n",
       "  'gcrs_target_quat': Quaternion(1.0, 0.0, -0.0, 0.0),\n",
       "  'epoch': <Arrow [2021-01-24T08:51:00.791712+00:00]>,\n",
       "  'ts': 1611478260},\n",
       " '16114971551618231525': {'id': '16114971551618231525',\n",
       "  'gcrs_target_quat': Quaternion(0.45682451047407974, 0.0, -0.35407790078416773, 0.8160515956766426),\n",
       "  'epoch': <Arrow [2021-01-24T08:51:00.791712+00:00]>,\n",
       "  'ts': 1611478260},\n",
       " '16114971551848090038': {'id': '16114971551848090038',\n",
       "  'gcrs_target_quat': Quaternion(0.7452132430291577, 0.0, -0.004376442980120005, 0.6668118693910654),\n",
       "  'epoch': <Arrow [2021-01-24T08:53:00.791712+00:00]>,\n",
       "  'ts': 1611478380},\n",
       " '1611497155814343026': {'id': '1611497155814343026',\n",
       "  'gcrs_target_quat': Quaternion(0.9568103750750948, 0.0, 0.07853342381311103, -0.2799042827340209),\n",
       "  'epoch': <Arrow [2021-01-24T08:55:00.791712+00:00]>,\n",
       "  'ts': 1611478500},\n",
       " '16114971551807300827': {'id': '16114971551807300827',\n",
       "  'gcrs_target_quat': Quaternion(0.5733665646528167, 0.0, -0.5411100404363373, -0.6151834739955332),\n",
       "  'epoch': <Arrow [2021-01-24T08:57:00.791712+00:00]>,\n",
       "  'ts': 1611478620},\n",
       " '1611497155842454583': {'id': '1611497155842454583',\n",
       "  'gcrs_target_quat': Quaternion(0.6325113143044879, 0.0, 0.6180125105092595, -0.4668939645474673),\n",
       "  'epoch': <Arrow [2021-01-24T08:59:00.791712+00:00]>,\n",
       "  'ts': 1611478740},\n",
       " '16114971552061246881': {'id': '16114971552061246881',\n",
       "  'gcrs_target_quat': Quaternion(0.863007157481154, 0.0, -0.06824636171438563, -0.5005607657907758),\n",
       "  'epoch': <Arrow [2021-01-24T09:01:00.791712+00:00]>,\n",
       "  'ts': 1611478860}}"
      ]
     },
     "metadata": {},
     "execution_count": 29
    }
   ],
   "source": [
    "random_gs_name = gs[0][\"name\"] # gather the name of the first GS inside list. for later purposes\n",
    "\n",
    "pa1 = att.push_target_antisun(random_epoch) # The satellite will be oriented in the opposite direction of Sun (for avoiding BBQ) at the epoch you give in argument \n",
    "pa2 = att.push_target_moon(random_epoch.shift(minutes=2)) # The satellite will be oriented in the direction of Moon (for calibration) at the epoch you give in argument \n",
    "pa3 = att.push_target_nadir(random_epoch.shift(minutes=4)) # The satellite will be oriented NADIR (camera pointing to ground) at the epoch you give in argument \n",
    "pa4 = att.push_target_limbs_ortho(random_epoch.shift(minutes=6)) # The satellite will be oriented LIMBS (camera pointing perpendicular to ground, and also velocity) at the epoch you give in argument \n",
    "pa5 = att.push_target_limbs_vel(random_epoch.shift(minutes=8)) # The satellite will be oriented NADIR (camera pointing perpendicular to ground, along velocity) at the epoch you give in argument \n",
    "pa6 = att.push_target_gs(random_epoch.shift(minutes=10), random_gs_name) # The satellite will be pointing to the given groundstation (name given in argument), at the epoch you give in argument \n",
    "\n",
    "att.gcrs_target_request # You can always see your pushed targets by accessing the list:"
   ]
  },
  {
   "source": [
    "## Delete attitude\n",
    "Same as command deletion."
   ],
   "cell_type": "markdown",
   "metadata": {}
  },
  {
   "cell_type": "code",
   "execution_count": 30,
   "metadata": {},
   "outputs": [
    {
     "output_type": "execute_result",
     "data": {
      "text/plain": [
       "True"
      ]
     },
     "metadata": {},
     "execution_count": 30
    }
   ],
   "source": [
    "att.del_target(pa3) # ...\n",
    "att.del_target(pa5) # ..."
   ]
  },
  {
   "source": [
    "# Using macros for multiple tasks\n",
    "Now let's say you have a sequence of multiple commands/targets to make in a specific order. And let's say you will have to apply this sequence multiple times in the simulation duration.\n",
    "\n",
    "### Example: a routine for taking pics: you have to rotate the satellite properly, take a few pictures, and then send the pictures...\n",
    "\n",
    "You can make this task very easy to do by using `Macro.`\n",
    "Firstly you create a list of dictionaries, each dictionary contain the action to perform, the RELATIVE time of execution (aka number of seconds after the application of macro), and the arguments for each action.\n",
    "\n",
    "## Ponctual macro application"
   ],
   "cell_type": "markdown",
   "metadata": {}
  },
  {
   "cell_type": "code",
   "execution_count": 32,
   "metadata": {},
   "outputs": [],
   "source": [
    "macro_pics_list = [\n",
    "    {\n",
    "        \"fx\": Attitude.push_command,\n",
    "        \"exe_time\": 0,\n",
    "        \"extra_args\": [0, 0, [42, 42.0]] # \"BOOT\"\n",
    "    },\n",
    "    {\n",
    "        \"fx\": Attitude.push_target_limbs_ortho, # rotate to limbs for pictures\n",
    "        \"exe_time\": 10,\n",
    "        \"extra_args\": []\n",
    "    },\n",
    "    {\n",
    "        \"fx\": Attitude.push_command,\n",
    "        \"exe_time\": 45,\n",
    "        \"extra_args\": [1, 0, [69]] # \"TAKE_PIC\" few times in a row\n",
    "    },\n",
    "    {\n",
    "        \"fx\": Attitude.push_command,\n",
    "        \"exe_time\": 50,\n",
    "        \"extra_args\": [1, 0, [69]] # ...\n",
    "    },\n",
    "    {\n",
    "        \"fx\": Attitude.push_command,\n",
    "        \"exe_time\": 55,\n",
    "        \"extra_args\": [1, 0, [69]] # ...\n",
    "    },\n",
    "    {\n",
    "        \"fx\": Attitude.push_command,\n",
    "        \"exe_time\": 60,\n",
    "        \"extra_args\": [2, 1, [True]] # \"SEND_PIC\" \n",
    "    }\n",
    "]\n",
    "\n",
    "macro_pics = Macro(macro_pics_list) # Now we create the macro using the list we created\n",
    "epoch_for_pics = orbit.epoch.shift(minutes=3) # Once again, we give an epoch for when we want to apply the macro\n",
    "macro_pics.apply_macro(att, epoch_for_pics) # Applying, ONCE, the macro to our attitudes. All actions given will be requested at given epoch + execution time given for each action.\n",
    "macro_pics.apply_macro(att, epoch_for_pics.shift(minutes=2)) # .. and once again 12 minutes later\n",
    "macro_pics.apply_macro(att, epoch_for_pics.shift(minutes=4)) # .."
   ]
  },
  {
   "source": [
    "## Periodic macro application\n",
    "You can make the above tasks even more automatic with periodic macros.\n",
    "We are going to take another example: let's say you want to point NADIR for a period of time"
   ],
   "cell_type": "markdown",
   "metadata": {}
  },
  {
   "cell_type": "code",
   "execution_count": 33,
   "metadata": {},
   "outputs": [],
   "source": [
    "macro_follow_center_list = [\n",
    "    {\n",
    "        \"fx\": Attitude.push_target_nadir,\n",
    "        \"exe_time\": 0,\n",
    "        \"extra_args\": []\n",
    "    }\n",
    "]\n",
    "\n",
    "epoch_beg = orbit.epoch.shift(minutes=30)\n",
    "epoch_end = epoch_beg.shift(minutes=120)\n",
    "macro_follow_center = Macro(macro_follow_center_list) # Now we create the macro using the list we created\n",
    "macro_follow_center.apply_macro_periodic(att, epoch_beg, epoch_end, 60) # The macro will be applied from the given beg epoch to end epoch, every 60 seconds."
   ]
  },
  {
   "source": [
    "## Ponctual macro application during an event\n",
    "\n",
    "If you need to execute a list of commands once during an event.\n",
    "\n",
    "### Example: Protecting satellite's camera by orientating satellite at Sun's opposite everytime the Sun is visible. And pointing NADIR when Sun not visible anymore."
   ],
   "cell_type": "markdown",
   "metadata": {}
  },
  {
   "cell_type": "code",
   "execution_count": null,
   "metadata": {},
   "outputs": [],
   "source": [
    "macro_protectsun_list = {\n",
    "    \"fx\": Attitude.push_target_antisun,\n",
    "    \"exe_time\": 0,\n",
    "    \"extra_args\": []\n",
    "}\n",
    "macro_protectsun = Macro(macro_protectsun_list)\n",
    "\n",
    "for ev in simu.sun_events: # looping for every events when sun is visible\n",
    "    macro_protectsun.apply_macro_event(att, ev, relative_exe_time=0.0) # will be executing the macro after a time = 0% of the duration of the event (therefore at the very beggining)\n",
    "    macro_follow_center.apply_macro_event(att, ev, relative_exe_time=1.0) # will be executing the macro after a time = 100% of the duration of the event (therefore at the very end of the event)\n"
   ]
  },
  {
   "source": [
    "## Periodic macro application during an event\n",
    "\n",
    "If you need to execute a list of commands periodically during an event.\n",
    "\n",
    "### Example: Following a specific groundstation each time the satellite sees it"
   ],
   "cell_type": "markdown",
   "metadata": {}
  },
  {
   "cell_type": "code",
   "execution_count": 36,
   "metadata": {},
   "outputs": [],
   "source": [
    "gs_random_name = simu.gs[0][\"name\"] # we take the name of the first groundstation in the list, could be anything\n",
    "macro_follow_gs_list = [{\n",
    "        \"fx\": Attitude.push_target_gs,\n",
    "        \"exe_time\": 0,\n",
    "        \"extra_args\": [gs_random_name]\n",
    "    }]\n",
    "macro_follow_gs = Macro(macro_follow_gs_list)\n",
    "\n",
    "for ev in simu.gs_events[gs_random_name]: # looping for every events for a specific groundstation ('gs_random_name' that we definied above)\n",
    "    macro_follow_gs.apply_macro_periodic_event(att, 1, ev) # every second"
   ]
  },
  {
   "source": [
    "# Generating the command list\n",
    "Finally, it is time to generate our command list, that will be ready to be translated to binary and send to satellite!\n",
    "When you are done pushing all your targets/commands, you generate your commands list like this:"
   ],
   "cell_type": "markdown",
   "metadata": {}
  },
  {
   "cell_type": "code",
   "execution_count": 37,
   "metadata": {},
   "outputs": [
    {
     "output_type": "execute_result",
     "data": {
      "text/plain": [
       "rgs': [0.9757220320849441,\n",
       "   0.001771962503964385,\n",
       "   0.007103349507353536,\n",
       "   0.2188901977674834]},\n",
       " {'fx': 'ROT_WITH_QUATERNION',\n",
       "  'dest': 'SOMEWHERE',\n",
       "  'unixepoch': 1611498211,\n",
       "  'args': [0.975795099530647,\n",
       "   0.001766734391530991,\n",
       "   0.007556069549127046,\n",
       "   0.21854909790372695]},\n",
       " {'fx': 'ROT_WITH_QUATERNION',\n",
       "  'dest': 'SOMEWHERE',\n",
       "  'unixepoch': 1611498212,\n",
       "  'args': [0.9758678711619776,\n",
       "   0.0017615048629654139,\n",
       "   0.008008707451171446,\n",
       "   0.21820782694341978]},\n",
       " {'fx': 'ROT_WITH_QUATERNION',\n",
       "  'dest': 'SOMEWHERE',\n",
       "  'unixepoch': 1611498213,\n",
       "  'args': [0.9759403469460277,\n",
       "   0.0017562741223604217,\n",
       "   0.008461263096467005,\n",
       "   0.21786638504112138]},\n",
       " {'fx': 'ROT_WITH_QUATERNION',\n",
       "  'dest': 'SOMEWHERE',\n",
       "  'unixepoch': 1611498214,\n",
       "  'args': [0.9760125268497983,\n",
       "   0.0017510423718539632,\n",
       "   0.008913736368190936,\n",
       "   0.21752477235212136]},\n",
       " {'fx': 'ROT_WITH_QUATERNION',\n",
       "  'dest': 'SOMEWHERE',\n",
       "  'unixepoch': 1611498215,\n",
       "  'args': [0.9760844108401976,\n",
       "   0.001745809811666718,\n",
       "   0.009366127149716685,\n",
       "   0.2171829890324302]},\n",
       " {'fx': 'ROT_WITH_QUATERNION',\n",
       "  'dest': 'SOMEWHERE',\n",
       "  'unixepoch': 1611498216,\n",
       "  'args': [0.9761559988840506,\n",
       "   0.0017405766400428668,\n",
       "   0.009818435324600746,\n",
       "   0.216841035238763]},\n",
       " {'fx': 'ROT_WITH_QUATERNION',\n",
       "  'dest': 'SOMEWHERE',\n",
       "  'unixepoch': 1611498217,\n",
       "  'args': [0.9762272909480953,\n",
       "   0.0017353430533142906,\n",
       "   0.01027066077658223,\n",
       "   0.21649891112853697]},\n",
       " {'fx': 'ROT_WITH_QUATERNION',\n",
       "  'dest': 'SOMEWHERE',\n",
       "  'unixepoch': 1611498218,\n",
       "  'args': [0.9762982869989936,\n",
       "   0.0017301092458592616,\n",
       "   0.010722803389574527,\n",
       "   0.216156616859852]},\n",
       " {'fx': 'ROT_WITH_QUATERNION',\n",
       "  'dest': 'SOMEWHERE',\n",
       "  'unixepoch': 1611498219,\n",
       "  'args': [0.9763689870033281,\n",
       "   0.0017248754101453058,\n",
       "   0.011174863047665295,\n",
       "   0.2158141525914836]},\n",
       " {'fx': 'ROT_WITH_QUATERNION',\n",
       "  'dest': 'SOMEWHERE',\n",
       "  'unixepoch': 1611498220,\n",
       "  'args': [0.976439390927611,\n",
       "   0.0017196417366691372,\n",
       "   0.01162683963510298,\n",
       "   0.21547151848286905]},\n",
       " {'fx': 'ROT_WITH_QUATERNION',\n",
       "  'dest': 'SOMEWHERE',\n",
       "  'unixepoch': 1611498221,\n",
       "  'args': [0.9765094987382824,\n",
       "   0.0017144084140179032,\n",
       "   0.01207873303629576,\n",
       "   0.21512871469410155]},\n",
       " {'fx': 'ROT_WITH_QUATERNION',\n",
       "  'dest': 'SOMEWHERE',\n",
       "  'unixepoch': 1611498222,\n",
       "  'args': [0.9765793104017181,\n",
       "   0.0017091756288604423,\n",
       "   0.012530543135809416,\n",
       "   0.21478574138591439]},\n",
       " {'fx': 'ROT_WITH_QUATERNION',\n",
       "  'dest': 'SOMEWHERE',\n",
       "  'unixepoch': 1611498223,\n",
       "  'args': [0.9766488258842289,\n",
       "   0.0017039435659099529,\n",
       "   0.012982269818355211,\n",
       "   0.21444259871966811]},\n",
       " {'fx': 'ROT_WITH_QUATERNION',\n",
       "  'dest': 'SOMEWHERE',\n",
       "  'unixepoch': 1611498224,\n",
       "  'args': [0.9767180451520678,\n",
       "   0.001698712407976243,\n",
       "   0.013433912968788509,\n",
       "   0.21409928685734858]},\n",
       " {'fx': 'ROT_WITH_QUATERNION',\n",
       "  'dest': 'SOMEWHERE',\n",
       "  'unixepoch': 1611498225,\n",
       "  'args': [0.9767869681714302,\n",
       "   0.0016934823359429892,\n",
       "   0.013885472472102681,\n",
       "   0.21375580596154667]},\n",
       " {'fx': 'ROT_WITH_QUATERNION',\n",
       "  'dest': 'SOMEWHERE',\n",
       "  'unixepoch': 1611498226,\n",
       "  'args': [0.9768555949084567,\n",
       "   0.0016882535287933128,\n",
       "   0.014336948213427222,\n",
       "   0.21341215619545292]},\n",
       " {'fx': 'ROT_WITH_QUATERNION',\n",
       "  'dest': 'SOMEWHERE',\n",
       "  'unixepoch': 1611498227,\n",
       "  'args': [0.9769239253292418,\n",
       "   0.0016830261635733179,\n",
       "   0.014788340078017014,\n",
       "   0.21306833772284295]},\n",
       " {'fx': 'ROT_WITH_QUATERNION',\n",
       "  'dest': 'SOMEWHERE',\n",
       "  'unixepoch': 1611498228,\n",
       "  'args': [0.9769919593998294,\n",
       "   0.0016778004154368975,\n",
       "   0.015239647951250384,\n",
       "   0.21272435070807083]},\n",
       " {'fx': 'ROT_WITH_QUATERNION',\n",
       "  'dest': 'SOMEWHERE',\n",
       "  'unixepoch': 1611498229,\n",
       "  'args': [0.9770596970862203,\n",
       "   0.0016725764576304568,\n",
       "   0.015690871718623104,\n",
       "   0.2123801953160565]},\n",
       " {'fx': 'ROT_WITH_QUATERNION',\n",
       "  'dest': 'SOMEWHERE',\n",
       "  'unixepoch': 1611498230,\n",
       "  'args': [0.9771271383543759,\n",
       "   0.0016673544615183416,\n",
       "   0.016142011265747522,\n",
       "   0.21203587171227478]},\n",
       " {'fx': 'ROT_WITH_QUATERNION',\n",
       "  'dest': 'SOMEWHERE',\n",
       "  'unixepoch': 1611498231,\n",
       "  'args': [0.9771942831702197,\n",
       "   0.001662134596543905,\n",
       "   0.016593066478341013,\n",
       "   0.2116913800627438]},\n",
       " {'fx': 'ROT_WITH_QUATERNION',\n",
       "  'dest': 'SOMEWHERE',\n",
       "  'unixepoch': 1611498232,\n",
       "  'args': [0.9772611314996398,\n",
       "   0.0016569170302822562,\n",
       "   0.01704403724222519,\n",
       "   0.2113467205340184]},\n",
       " {'fx': 'ROT_WITH_QUATERNION',\n",
       "  'dest': 'SOMEWHERE',\n",
       "  'unixepoch': 1611498233,\n",
       "  'args': [0.9773276833084937,\n",
       "   0.0016517019284171554,\n",
       "   0.01749492344331942,\n",
       "   0.21100189329317598]},\n",
       " {'fx': 'ROT_WITH_QUATERNION',\n",
       "  'dest': 'SOMEWHERE',\n",
       "  'unixepoch': 1611498234,\n",
       "  'args': [0.9773939385626104,\n",
       "   0.0016464894547744337,\n",
       "   0.01794572496764031,\n",
       "   0.2106568985078089]},\n",
       " {'fx': 'ROT_WITH_QUATERNION',\n",
       "  'dest': 'SOMEWHERE',\n",
       "  'unixepoch': 1611498235,\n",
       "  'args': [0.9774598972277937,\n",
       "   0.0016412797712818863,\n",
       "   0.018396441701290685,\n",
       "   0.2103117363460108]},\n",
       " {'fx': 'ROT_WITH_QUATERNION',\n",
       "  'dest': 'SOMEWHERE',\n",
       "  'unixepoch': 1611498236,\n",
       "  'args': [0.9775255592698257,\n",
       "   0.001636073038021684,\n",
       "   0.018847073530458856,\n",
       "   0.2099664069763695]},\n",
       " {'fx': 'ROT_WITH_QUATERNION',\n",
       "  'dest': 'SOMEWHERE',\n",
       "  'unixepoch': 1611498237,\n",
       "  'args': [0.9775909246544676,\n",
       "   0.0016308694132076194,\n",
       "   0.019297620341411796,\n",
       "   0.20962091056795668]},\n",
       " {'fx': 'ROT_WITH_QUATERNION',\n",
       "  'dest': 'SOMEWHERE',\n",
       "  'unixepoch': 1611498238,\n",
       "  'args': [0.9776559933474646,\n",
       "   0.0016256690532232211,\n",
       "   0.019748082020495678,\n",
       "   0.20927524729031738]},\n",
       " {'fx': 'ROT_WITH_QUATERNION',\n",
       "  'dest': 'SOMEWHERE',\n",
       "  'unixepoch': 1611498239,\n",
       "  'args': [0.9777207653145493,\n",
       "   0.0016204721125800126,\n",
       "   0.020198458454124817,\n",
       "   0.2089294173134572]},\n",
       " {'fx': 'ROT_WITH_QUATERNION',\n",
       "  'dest': 'SOMEWHERE',\n",
       "  'unixepoch': 1611498240,\n",
       "  'args': [0.9777852405214441,\n",
       "   0.0016152787439625647,\n",
       "   0.02064874952877928,\n",
       "   0.20858342080783665]},\n",
       " {'fx': 'ROT_WITH_QUATERNION',\n",
       "  'dest': 'SOMEWHERE',\n",
       "  'unixepoch': 1611498241,\n",
       "  'args': [0.9778494189338607,\n",
       "   0.0016100890982443919,\n",
       "   0.02109895513100548,\n",
       "   0.208237257944361]},\n",
       " {'fx': 'ROT_WITH_QUATERNION',\n",
       "  'dest': 'SOMEWHERE',\n",
       "  'unixepoch': 1611498242,\n",
       "  'args': [0.9779133005175095,\n",
       "   0.0016049033244430236,\n",
       "   0.02154907514740392,\n",
       "   0.20789092889436592]},\n",
       " {'fx': 'ROT_WITH_QUATERNION',\n",
       "  'dest': 'SOMEWHERE',\n",
       "  'unixepoch': 1611498243,\n",
       "  'args': [0.9779768852380959,\n",
       "   0.0015997215697854026,\n",
       "   0.021999109464630476,\n",
       "   0.20754443382961313]},\n",
       " {'fx': 'ROT_WITH_QUATERNION',\n",
       "  'dest': 'SOMEWHERE',\n",
       "  'unixepoch': 1611498244,\n",
       "  'args': [0.9780401730613275,\n",
       "   0.0015945439796771483,\n",
       "   0.022449057969388706,\n",
       "   0.207197772922279]},\n",
       " {'fx': 'ROT_WITH_QUATERNION',\n",
       "  'dest': 'SOMEWHERE',\n",
       "  'unixepoch': 1611498245,\n",
       "  'args': [0.978103163952915,\n",
       "   0.0015893706977449756,\n",
       "   0.022898920548431463,\n",
       "   0.20685094634494358]},\n",
       " {'fx': 'ROT_WITH_QUATERNION',\n",
       "  'dest': 'SOMEWHERE',\n",
       "  'unixepoch': 1611498246,\n",
       "  'args': [0.9781658578785752,\n",
       "   0.0015842018657974573,\n",
       "   0.023348697088549444,\n",
       "   0.20650395427058224]},\n",
       " {'fx': 'ROT_WITH_QUATERNION',\n",
       "  'dest': 'SOMEWHERE',\n",
       "  'unixepoch': 1611498247,\n",
       "  'args': [0.9782282548040333,\n",
       "   0.0015790376238755325,\n",
       "   0.02379838747657108,\n",
       "   0.2061567968725566]},\n",
       " {'fx': 'ROT_WITH_QUATERNION',\n",
       "  'dest': 'SOMEWHERE',\n",
       "  'unixepoch': 1611498248,\n",
       "  'args': [0.9782903546950267,\n",
       "   0.0015738781102400423,\n",
       "   0.024247991599357154,\n",
       "   0.20580947432460658]},\n",
       " {'fx': 'ROT_WITH_QUATERNION',\n",
       "  'dest': 'SOMEWHERE',\n",
       "  'unixepoch': 1611498249,\n",
       "  'args': [0.9783521575173056,\n",
       "   0.0015687234614020684,\n",
       "   0.024697509343801428,\n",
       "   0.2054619868008377]},\n",
       " {'fx': 'ROT_WITH_QUATERNION',\n",
       "  'dest': 'SOMEWHERE',\n",
       "  'unixepoch': 1611498250,\n",
       "  'args': [0.9784136632366388,\n",
       "   0.0015635738120884258,\n",
       "   0.025146940596819368,\n",
       "   0.2051143344757142]},\n",
       " {'fx': 'ROT_WITH_QUATERNION',\n",
       "  'dest': 'SOMEWHERE',\n",
       "  'unixepoch': 1611498251,\n",
       "  'args': [0.9784748718188134,\n",
       "   0.0015584292952951358,\n",
       "   0.025596285245348877,\n",
       "   0.20476651752404937]},\n",
       " {'fx': 'ROT_WITH_QUATERNION',\n",
       "  'dest': 'SOMEWHERE',\n",
       "  'unixepoch': 1611498252,\n",
       "  'args': [0.9785357832296383,\n",
       "   0.0015532900422700819,\n",
       "   0.02604554317634443,\n",
       "   0.20441853612099842]},\n",
       " {'fx': 'ROT_WITH_QUATERNION',\n",
       "  'dest': 'SOMEWHERE',\n",
       "  'unixepoch': 1611498253,\n",
       "  'args': [0.9785963974349471,\n",
       "   0.0015481561825499463,\n",
       "   0.02649471427677829,\n",
       "   0.20407039044204733]},\n",
       " {'fx': 'ROT_WITH_QUATERNION',\n",
       "  'dest': 'SOMEWHERE',\n",
       "  'unixepoch': 1611498254,\n",
       "  'args': [0.9786567144005995,\n",
       "   0.0015430278439216487,\n",
       "   0.026943798433629373,\n",
       "   0.20372208066300423]},\n",
       " {'fx': 'ROT_WITH_QUATERNION',\n",
       "  'dest': 'SOMEWHERE',\n",
       "  'unixepoch': 1611498255,\n",
       "  'args': [0.9787167340924874,\n",
       "   0.0015379051524789069,\n",
       "   0.027392795533884427,\n",
       "   0.20337360695999016]},\n",
       " {'fx': 'ROT_WITH_QUATERNION',\n",
       "  'dest': 'SOMEWHERE',\n",
       "  'unixepoch': 1611498256,\n",
       "  'args': [0.9787764564765301,\n",
       "   0.0015327882326036945,\n",
       "   0.02784170546453151,\n",
       "   0.20302496950943608]},\n",
       " {'fx': 'ROT_WITH_QUATERNION',\n",
       "  'dest': 'SOMEWHERE',\n",
       "  'unixepoch': 1611498257,\n",
       "  'args': [0.978835881518685,\n",
       "   0.0015276772070062703,\n",
       "   0.02829052811256283,\n",
       "   0.20267616848806508]},\n",
       " {'fx': 'ROT_WITH_QUATERNION',\n",
       "  'dest': 'SOMEWHERE',\n",
       "  'unixepoch': 1611498258,\n",
       "  'args': [0.9788950091849447,\n",
       "   0.001522572196683645,\n",
       "   0.028739263364962672,\n",
       "   0.2023272040728895]},\n",
       " {'fx': 'ROT_WITH_QUATERNION',\n",
       "  'dest': 'SOMEWHERE',\n",
       "  'unixepoch': 1611498259,\n",
       "  'args': [0.9789538394413402,\n",
       "   0.0015174733209740365,\n",
       "   0.029187911108707353,\n",
       "   0.20197807644120389]},\n",
       " {'fx': 'ROT_WITH_QUATERNION',\n",
       "  'dest': 'SOMEWHERE',\n",
       "  'unixepoch': 1611498260,\n",
       "  'args': [0.9790123722539453,\n",
       "   0.0015123806975684028,\n",
       "   0.02963647123076717,\n",
       "   0.20162878577057253]},\n",
       " {'fx': 'ROT_WITH_QUATERNION',\n",
       "  'dest': 'SOMEWHERE',\n",
       "  'unixepoch': 1611498261,\n",
       "  'args': [0.9790706075888773,\n",
       "   0.0015072944424746712,\n",
       "   0.030084943618094002,\n",
       "   0.20127933223882313]},\n",
       " {'fx': 'ROT_WITH_QUATERNION',\n",
       "  'dest': 'SOMEWHERE',\n",
       "  'unixepoch': 1611498262,\n",
       "  'args': [0.9791285454122978,\n",
       "   0.00150221467007712,\n",
       "   0.03053332815762354,\n",
       "   0.20092971602404064]},\n",
       " {'fx': 'ROT_WITH_QUATERNION',\n",
       "  'dest': 'SOMEWHERE',\n",
       "  'unixepoch': 1611498263,\n",
       "  'args': [0.9791861856904186,\n",
       "   0.0014971414931195031,\n",
       "   0.03098162473627006,\n",
       "   0.20057993730455562]},\n",
       " {'fx': 'ROT_WITH_QUATERNION',\n",
       "  'dest': 'SOMEWHERE',\n",
       "  'unixepoch': 1611498264,\n",
       "  'args': [0.9792435283895011,\n",
       "   0.0014920750227399918,\n",
       "   0.03142983324092786,\n",
       "   0.20022999625893878]},\n",
       " {'fx': 'ROT_WITH_QUATERNION',\n",
       "  'dest': 'SOMEWHERE',\n",
       "  'unixepoch': 1611498265,\n",
       "  'args': [0.9793005734758595,\n",
       "   0.0014870153684372134,\n",
       "   0.031877953558460306,\n",
       "   0.19987989306599058]},\n",
       " {'fx': 'ROT_WITH_QUATERNION',\n",
       "  'dest': 'SOMEWHERE',\n",
       "  'unixepoch': 1611498266,\n",
       "  'args': [0.9793573209158621,\n",
       "   0.0014819626381283309,\n",
       "   0.032325985575702224,\n",
       "   0.19952962790473916]},\n",
       " {'fx': 'ROT_WITH_QUATERNION',\n",
       "  'dest': 'SOMEWHERE',\n",
       "  'unixepoch': 1611498267,\n",
       "  'args': [0.9794137706759356,\n",
       "   0.0014769169381286574,\n",
       "   0.03277392917945434,\n",
       "   0.1991792009544242]},\n",
       " {'fx': 'ROT_WITH_QUATERNION',\n",
       "  'dest': 'SOMEWHERE',\n",
       "  'unixepoch': 1611498268,\n",
       "  'args': [0.9794699227225659,\n",
       "   0.0014718783731935883,\n",
       "   0.033221784256485386,\n",
       "   0.19882861239449806]},\n",
       " {'fx': 'ROT_WITH_QUATERNION',\n",
       "  'dest': 'SOMEWHERE',\n",
       "  'unixepoch': 1611498269,\n",
       "  'args': [0.9795257770222973,\n",
       "   0.001466847046478154,\n",
       "   0.033669550693520914,\n",
       "   0.19847786240460918]},\n",
       " {'fx': 'ROT_WITH_QUATERNION',\n",
       "  'dest': 'SOMEWHERE',\n",
       "  'unixepoch': 1611498270,\n",
       "  'args': [0.979581333541741,\n",
       "   0.00146182305960076,\n",
       "   0.034117228377246525,\n",
       "   0.19812695116460408]},\n",
       " {'fx': 'ROT_WITH_QUATERNION',\n",
       "  'dest': 'SOMEWHERE',\n",
       "  'unixepoch': 1611498271,\n",
       "  'args': [0.9796365922475713,\n",
       "   0.0014568065126203047,\n",
       "   0.034564817194301635,\n",
       "   0.19777587885451312]},\n",
       " {'fx': 'ROT_WITH_QUATERNION',\n",
       "  'dest': 'SOMEWHERE',\n",
       "  'unixepoch': 1611498272,\n",
       "  'args': [0.9796915531065299,\n",
       "   0.0014517975040775073,\n",
       "   0.03501231703128252,\n",
       "   0.19742464565454673]},\n",
       " {'fx': 'ROT_WITH_QUATERNION',\n",
       "  'dest': 'SOMEWHERE',\n",
       "  'unixepoch': 1611498273,\n",
       "  'args': [0.9797462160854291,\n",
       "   0.0014467961309592076,\n",
       "   0.035459727774731116,\n",
       "   0.19707325174508367]},\n",
       " {'fx': 'ROT_WITH_QUATERNION',\n",
       "  'dest': 'SOMEWHERE',\n",
       "  'unixepoch': 1611498274,\n",
       "  'args': [0.979800581151151,\n",
       "   0.001441802488756179,\n",
       "   0.0359070493111383,\n",
       "   0.1967216973066721]},\n",
       " {'fx': 'ROT_WITH_QUATERNION',\n",
       "  'dest': 'SOMEWHERE',\n",
       "  'unixepoch': 1611498275,\n",
       "  'args': [0.9798546482706515,\n",
       "   0.0014368166714450368,\n",
       "   0.036354281526937794,\n",
       "   0.1963699825200141]},\n",
       " {'fx': 'ROT_WITH_QUATERNION',\n",
       "  'dest': 'SOMEWHERE',\n",
       "  'unixepoch': 1611498276,\n",
       "  'args': [0.9799084174109615,\n",
       "   0.0014318387715277553,\n",
       "   0.03680142430850966,\n",
       "   0.196018107565965]},\n",
       " {'fx': 'ROT_WITH_QUATERNION',\n",
       "  'dest': 'SOMEWHERE',\n",
       "  'unixepoch': 1611498277,\n",
       "  'args': [0.979961888539189,\n",
       "   0.001426868879996873,\n",
       "   0.03724847754216901,\n",
       "   0.1956660726255217]},\n",
       " {'fx': 'ROT_WITH_QUATERNION',\n",
       "  'dest': 'SOMEWHERE',\n",
       "  'unixepoch': 1611498278,\n",
       "  'args': [0.9800150616225207,\n",
       "   0.001421907086389392,\n",
       "   0.03769544111416848,\n",
       "   0.19531387787981877]},\n",
       " {'fx': 'ROT_WITH_QUATERNION',\n",
       "  'dest': 'SOMEWHERE',\n",
       "  'unixepoch': 1611498279,\n",
       "  'args': [0.9800679366282238,\n",
       "   0.0014169534787933276,\n",
       "   0.03814231491069852,\n",
       "   0.19496152351012327]},\n",
       " {'fx': 'ROT_WITH_QUATERNION',\n",
       "  'dest': 'SOMEWHERE',\n",
       "  'unixepoch': 1611498280,\n",
       "  'args': [0.9801205135236477,\n",
       "   0.0014120081438241073,\n",
       "   0.03858909881787813,\n",
       "   0.19460900969782202]},\n",
       " {'fx': 'ROT_WITH_QUATERNION',\n",
       "  'dest': 'SOMEWHERE',\n",
       "  'unixepoch': 1611498281,\n",
       "  'args': [0.9801727922762267,\n",
       "   0.001407071166676775,\n",
       "   0.03903579272175729,\n",
       "   0.1942563366244225]},\n",
       " {'fx': 'ROT_WITH_QUATERNION',\n",
       "  'dest': 'SOMEWHERE',\n",
       "  'unixepoch': 1611498282,\n",
       "  'args': [0.9802247728534804,\n",
       "   0.0014021426311118174,\n",
       "   0.03948239650831195,\n",
       "   0.19390350447154217]},\n",
       " {'fx': 'ROT_WITH_QUATERNION',\n",
       "  'dest': 'SOMEWHERE',\n",
       "  'unixepoch': 1611498283,\n",
       "  'args': [0.9802764552230158,\n",
       "   0.0013972226194918994,\n",
       "   0.03992891006344699,\n",
       "   0.19355051342090315]},\n",
       " {'fx': 'ROT_WITH_QUATERNION',\n",
       "  'dest': 'SOMEWHERE',\n",
       "  'unixepoch': 1611498284,\n",
       "  'args': [0.9803278393525306,\n",
       "   0.0013923112127527738,\n",
       "   0.0403753332729867,\n",
       "   0.19319736365432388]},\n",
       " {'fx': 'ROT_WITH_QUATERNION',\n",
       "  'dest': 'SOMEWHERE',\n",
       "  'unixepoch': 1611498285,\n",
       "  'args': [0.980378925209812,\n",
       "   0.0013874084904531186,\n",
       "   0.040821666022676825,\n",
       "   0.19284405535371732]},\n",
       " {'fx': 'ROT_WITH_QUATERNION',\n",
       "  'dest': 'SOMEWHERE',\n",
       "  'unixepoch': 1611498286,\n",
       "  'args': [0.9804297127627407,\n",
       "   0.0013825145307634304,\n",
       "   0.04126790819818056,\n",
       "   0.19249058870108227]},\n",
       " {'fx': 'ROT_WITH_QUATERNION',\n",
       "  'dest': 'SOMEWHERE',\n",
       "  'unixepoch': 1611498287,\n",
       "  'args': [0.9804802019792902,\n",
       "   0.0013776294105029886,\n",
       "   0.041714059685081274,\n",
       "   0.1921369638784973]},\n",
       " {'fx': 'ROT_WITH_QUATERNION',\n",
       "  'dest': 'SOMEWHERE',\n",
       "  'unixepoch': 1611498288,\n",
       "  'args': [0.9805303928275327,\n",
       "   0.0013727532051075447,\n",
       "   0.04216012036887344,\n",
       "   0.19178318106811337]},\n",
       " {'fx': 'ROT_WITH_QUATERNION',\n",
       "  'dest': 'SOMEWHERE',\n",
       "  'unixepoch': 1611498289,\n",
       "  'args': [0.9805802852756351,\n",
       "   0.001367885988682331,\n",
       "   0.0426060901349642,\n",
       "   0.1914292404521514]},\n",
       " {'fx': 'ROT_WITH_QUATERNION',\n",
       "  'dest': 'SOMEWHERE',\n",
       "  'unixepoch': 1611498290,\n",
       "  'args': [0.9806298792918646,\n",
       "   0.00136302783399055,\n",
       "   0.04305196886867048,\n",
       "   0.19107514221289423]},\n",
       " {'fx': 'ROT_WITH_QUATERNION',\n",
       "  'dest': 'SOMEWHERE',\n",
       "  'unixepoch': 1611498291,\n",
       "  'args': [0.9806791748445884,\n",
       "   0.0013581788124892547,\n",
       "   0.04349775645522128,\n",
       "   0.1907208865326844]},\n",
       " {'fx': 'ROT_WITH_QUATERNION',\n",
       "  'dest': 'SOMEWHERE',\n",
       "  'unixepoch': 1611498292,\n",
       "  'args': [0.9807281719022757,\n",
       "   0.0013533389942956668,\n",
       "   0.04394345277974815,\n",
       "   0.19036647359390949]},\n",
       " {'fx': 'ROT_WITH_QUATERNION',\n",
       "  'dest': 'SOMEWHERE',\n",
       "  'unixepoch': 1611498293,\n",
       "  'args': [0.9807768704335003,\n",
       "   0.0013485084482465098,\n",
       "   0.044389057727288926,\n",
       "   0.1900119035790074]},\n",
       " {'fx': 'ROT_WITH_QUATERNION',\n",
       "  'dest': 'SOMEWHERE',\n",
       "  'unixepoch': 1611498294,\n",
       "  'args': [0.980825270406938,\n",
       "   0.001343687241878201,\n",
       "   0.04483457118278236,\n",
       "   0.18965717667045667]},\n",
       " {'fx': 'ROT_WITH_QUATERNION',\n",
       "  'dest': 'SOMEWHERE',\n",
       "  'unixepoch': 1611498295,\n",
       "  'args': [0.9808733717913739,\n",
       "   0.0013388754414672612,\n",
       "   0.04527999303107307,\n",
       "   0.18930229305076834]},\n",
       " {'fx': 'ROT_WITH_QUATERNION',\n",
       "  'dest': 'SOMEWHERE',\n",
       "  'unixepoch': 1611498296,\n",
       "  'args': [0.9809211745556997,\n",
       "   0.0013340731119988601,\n",
       "   0.045725323156900366,\n",
       "   0.1889472529024841]},\n",
       " {'fx': 'ROT_WITH_QUATERNION',\n",
       "  'dest': 'SOMEWHERE',\n",
       "  'unixepoch': 1611498297,\n",
       "  'args': [0.9809686786689162,\n",
       "   0.0013292803172141468,\n",
       "   0.04617056144490136,\n",
       "   0.18859205640816895]},\n",
       " {'fx': 'ROT_WITH_QUATERNION',\n",
       "  'dest': 'SOMEWHERE',\n",
       "  'unixepoch': 1611498298,\n",
       "  'args': [0.9810158841001329,\n",
       "   0.0013244971196248916,\n",
       "   0.046615707779613144,\n",
       "   0.18823670375041188]},\n",
       " {'fx': 'ROT_WITH_QUATERNION',\n",
       "  'dest': 'SOMEWHERE',\n",
       "  'unixepoch': 1611498299,\n",
       "  'args': [0.9810627908185747,\n",
       "   0.001319723580484963,\n",
       "   0.04706076204546367,\n",
       "   0.18788119511180734]},\n",
       " {'fx': 'ROT_WITH_QUATERNION',\n",
       "  'dest': 'SOMEWHERE',\n",
       "  'unixepoch': 1611498300,\n",
       "  'args': [0.9811093987935763,\n",
       "   0.001314959759841707,\n",
       "   0.0475057241267736,\n",
       "   0.18752553067496827]},\n",
       " {'fx': 'ROT_WITH_QUATERNION',\n",
       "  'dest': 'SOMEWHERE',\n",
       "  'unixepoch': 1611498301,\n",
       "  'args': [0.981155707994588,\n",
       "   0.0013102057165289547,\n",
       "   0.047950593907755,\n",
       "   0.18716971062250584]},\n",
       " {'fx': 'ROT_WITH_QUATERNION',\n",
       "  'dest': 'SOMEWHERE',\n",
       "  'unixepoch': 1611498302,\n",
       "  'args': [0.9812017183911755,\n",
       "   0.001305461508193819,\n",
       "   0.04839537127251267,\n",
       "   0.18681373513703503]},\n",
       " {'fx': 'ROT_WITH_QUATERNION',\n",
       "  'dest': 'SOMEWHERE',\n",
       "  'unixepoch': 1611498303,\n",
       "  'args': [0.981247429953022,\n",
       "   0.0013007271912749087,\n",
       "   0.04884005610503607,\n",
       "   0.1864576044011615]},\n",
       " {'fx': 'ROT_WITH_QUATERNION',\n",
       "  'dest': 'SOMEWHERE',\n",
       "  'unixepoch': 1611498304,\n",
       "  'args': [0.9812928426499273,\n",
       "   0.0012960028210498257,\n",
       "   0.04928464828920252,\n",
       "   0.18610131859748372]},\n",
       " {'fx': 'ROT_WITH_QUATERNION',\n",
       "  'dest': 'SOMEWHERE',\n",
       "  'unixepoch': 1611498305,\n",
       "  'args': [0.9813379564518118,\n",
       "   0.001291288451623522,\n",
       "   0.0497291477087733,\n",
       "   0.18574487790858557]},\n",
       " {'fx': 'ROT_WITH_QUATERNION',\n",
       "  'dest': 'SOMEWHERE',\n",
       "  'unixepoch': 1611498306,\n",
       "  'args': [0.9813827713287155,\n",
       "   0.0012865841359639284,\n",
       "   0.05017355424739797,\n",
       "   0.18538828251703177]},\n",
       " {'fx': 'ROT_WITH_QUATERNION',\n",
       "  'dest': 'SOMEWHERE',\n",
       "  'unixepoch': 1611498307,\n",
       "  'args': [0.9814272872507996,\n",
       "   0.0012818899258732182,\n",
       "   0.05061786778860463,\n",
       "   0.18503153260536195]},\n",
       " {'fx': 'ROT_WITH_QUATERNION',\n",
       "  'dest': 'SOMEWHERE',\n",
       "  'unixepoch': 1611498308,\n",
       "  'args': [0.9814715041883498,\n",
       "   0.001277205872036362,\n",
       "   0.051062088215803665,\n",
       "   0.1846746283560903]},\n",
       " {'fx': 'ROT_WITH_QUATERNION',\n",
       "  'dest': 'SOMEWHERE',\n",
       "  'unixepoch': 1611498309,\n",
       "  'args': [0.9815154221117732,\n",
       "   0.001272532024012657,\n",
       "   0.05150621541228492,\n",
       "   0.18431756995169737]},\n",
       " {'fx': 'ROT_WITH_QUATERNION',\n",
       "  'dest': 'SOMEWHERE',\n",
       "  'unixepoch': 1611498310,\n",
       "  'args': [0.9815590409916026,\n",
       "   0.0012678684302672974,\n",
       "   0.05195024926122019,\n",
       "   0.18396035757463064]},\n",
       " {'fx': 'ROT_WITH_QUATERNION',\n",
       "  'dest': 'SOMEWHERE',\n",
       "  'unixepoch': 1611498311,\n",
       "  'args': [0.9816023607984978,\n",
       "   0.0012632151381440518,\n",
       "   0.052394189645656,\n",
       "   0.18360299140729008]},\n",
       " {'fx': 'ROT_WITH_QUATERNION',\n",
       "  'dest': 'SOMEWHERE',\n",
       "  'unixepoch': 1611498312,\n",
       "  'args': [0.9816453815032444,\n",
       "   0.0012585721939146262,\n",
       "   0.052838036448515424,\n",
       "   0.18324547163203825]},\n",
       " {'fx': 'ROT_WITH_QUATERNION',\n",
       "  'dest': 'SOMEWHERE',\n",
       "  'unixepoch': 1611498313,\n",
       "  'args': [0.9816881030767559,\n",
       "   0.0012539396427691818,\n",
       "   0.053281789552596694,\n",
       "   0.1828877984311852]},\n",
       " {'fx': 'ROT_WITH_QUATERNION',\n",
       "  'dest': 'SOMEWHERE',\n",
       "  'unixepoch': 1611498314,\n",
       "  'args': [0.9817305254900751,\n",
       "   0.0012493175288461609,\n",
       "   0.0537254488405754,\n",
       "   0.182529971986991]},\n",
       " {'fx': 'ROT_WITH_QUATERNION',\n",
       "  'dest': 'SOMEWHERE',\n",
       "  'unixepoch': 1611498315,\n",
       "  'args': [0.9817726487143752,\n",
       "   0.0012447058952071762,\n",
       "   0.05416901419499661,\n",
       "   0.1821719924816558]},\n",
       " {'fx': 'ROT_WITH_QUATERNION',\n",
       "  'dest': 'SOMEWHERE',\n",
       "  'unixepoch': 1611498316,\n",
       "  'args': [0.9818144727209601,\n",
       "   0.00124010478388403,\n",
       "   0.054612485498277547,\n",
       "   0.1818138600973224]},\n",
       " ...]"
      ]
     },
     "metadata": {},
     "execution_count": 37
    }
   ],
   "source": [
    "alerts = att.generate_list_commands()\n",
    "att.generated_commands # The list of generated commands can be found here"
   ]
  },
  {
   "source": [
    "The function returns `True` if command generated correctly, or returns a list of warnings if something dangerous as been encoutered during generation (BBQ detected, for instance)"
   ],
   "cell_type": "markdown",
   "metadata": {}
  },
  {
   "cell_type": "code",
   "execution_count": 38,
   "metadata": {
    "tags": [
     "outputPrepend"
    ]
   },
   "outputs": [
    {
     "output_type": "stream",
     "name": "stdout",
     "text": [
      " 'unixepoch': 1611545828, 'args': [0.17534615672715467, 0.0003232906473819368, -0.5440496909253663, -0.8205263887335902]}, {'fx': 'ROT_WITH_QUATERNION', 'dest': 'SOMEWHERE', 'unixepoch': 1611545829, 'args': [0.17527497994532812, 0.0003232677745138939, -0.5467094770449887, -0.81877183916663]}, {'fx': 'ROT_WITH_QUATERNION', 'dest': 'SOMEWHERE', 'unixepoch': 1611545830, 'args': [0.1752054727507552, 0.00032323993838948505, -0.5493654552117071, -0.8170070589989786]}, {'fx': 'ROT_WITH_QUATERNION', 'dest': 'SOMEWHERE', 'unixepoch': 1611545831, 'args': [0.17513763722123693, 0.0003232071279948321, -0.5520175354447309, -0.8152320799178844]}, {'fx': 'ROT_WITH_QUATERNION', 'dest': 'SOMEWHERE', 'unixepoch': 1611545832, 'args': [0.17507147538778792, 0.00032316933266967295, -0.5546656278740483, -0.8134469345459566]}, {'fx': 'ROT_WITH_QUATERNION', 'dest': 'SOMEWHERE', 'unixepoch': 1611545833, 'args': [0.17500698923435629, 0.00032312654211178246, -0.5573096427541299, -0.8116516564398965]}, {'fx': 'ROT_WITH_QUATERNION', 'dest': 'SOMEWHERE', 'unixepoch': 1611545834, 'args': [0.17494418069754283, 0.0003230787463780941, -0.5599494904776606, -0.8098462800890036]}, {'fx': 'ROT_WITH_QUATERNION', 'dest': 'SOMEWHERE', 'unixepoch': 1611545835, 'args': [0.174883051666326, 0.00032302593588857964, -0.5625850815892893, -0.8080308409134461]}, {'fx': 'ROT_WITH_QUATERNION', 'dest': 'SOMEWHERE', 'unixepoch': 1611545836, 'args': [0.17482360398179875, 0.0003229681014281265, -0.5652163267993902, -0.8062053752622993]}, {'fx': 'ROT_WITH_QUATERNION', 'dest': 'SOMEWHERE', 'unixepoch': 1611545837, 'args': [0.1747658394369055, 0.00032290523414873866, -0.5678431369978354, -0.8043699204113622]}, {'fx': 'ROT_WITH_QUATERNION', 'dest': 'SOMEWHERE', 'unixepoch': 1611545838, 'args': [0.17470975977618564, 0.00032283732557216284, -0.5704654232677704, -0.8025245145607282]}, {'fx': 'ROT_WITH_QUATERNION', 'dest': 'SOMEWHERE', 'unixepoch': 1611545839, 'args': [0.1746553666955291, 0.00032276436759258177, -0.5730830968993957, -0.8006691968321318]}, {'fx': 'ROT_WITH_QUATERNION', 'dest': 'SOMEWHERE', 'unixepoch': 1611545840, 'args': [0.17460266184193196, 0.0003226863524783397, -0.5756960694037372, -0.7988040072660607]}, {'fx': 'ROT_WITH_QUATERNION', 'dest': 'SOMEWHERE', 'unixepoch': 1611545841, 'args': [0.17455164681326038, 0.00032260327287384947, -0.5783042525264087, -0.7969289868186369]}, {'fx': 'ROT_WITH_QUATERNION', 'dest': 'SOMEWHERE', 'unixepoch': 1611545842, 'args': [0.174502323158025, 0.00032251512179736375, -0.5809075582613186, -0.7950441773582908]}, {'fx': 'ROT_WITH_QUATERNION', 'dest': 'SOMEWHERE', 'unixepoch': 1611545843, 'args': [0.17445469237515177, 0.0003224218926648054, -0.5835058988645566, -0.7931496216620672]}, {'fx': 'ROT_WITH_QUATERNION', 'dest': 'SOMEWHERE', 'unixepoch': 1611545844, 'args': [0.1744087559137758, 0.000322323579249551, -0.5860991868678699, -0.7912453634119707]}, {'fx': 'ROT_WITH_QUATERNION', 'dest': 'SOMEWHERE', 'unixepoch': 1611545845, 'args': [0.17436451517302548, 0.0003222201757239389, -0.5886873350924843, -0.7893314471908128]}, {'fx': 'ROT_WITH_QUATERNION', 'dest': 'SOMEWHERE', 'unixepoch': 1611545846, 'args': [0.17432197150182155, 0.0003221116766436412, -0.591270256662725, -0.7874079184779518]}, {'fx': 'ROT_WITH_QUATERNION', 'dest': 'SOMEWHERE', 'unixepoch': 1611545847, 'args': [0.17428112619868513, 0.000321998076949931, -0.5938478650195983, -0.7854748236447949]}, {'fx': 'ROT_WITH_QUATERNION', 'dest': 'SOMEWHERE', 'unixepoch': 1611545848, 'args': [0.174241980511545, 0.0003218793719739801, -0.5964200739343677, -0.7835322099500491]}, {'fx': 'ROT_WITH_QUATERNION', 'dest': 'SOMEWHERE', 'unixepoch': 1611545849, 'args': [0.17420453563756086, 0.0003217555574360709, -0.5989867975220565, -0.7815801255347619]}, {'fx': 'ROT_WITH_QUATERNION', 'dest': 'SOMEWHERE', 'unixepoch': 1611545850, 'args': [0.17416879272294614, 0.0003216266294482591, -0.6015479502549091, -0.7796186194171224]}, {'fx': 'ROT_WITH_QUATERNION', 'dest': 'SOMEWHERE', 'unixepoch': 1611545851, 'args': [0.17413475286280364, 0.0003214925845159807, -0.6041034469757942, -0.7776477414870384]}, {'fx': 'ROT_WITH_QUATERNION', 'dest': 'SOMEWHERE', 'unixepoch': 1611545852, 'args': [0.17410241710096322, 0.0003213534195371418, -0.6066532029115342, -0.7756675425004961]}, {'fx': 'ROT_WITH_QUATERNION', 'dest': 'SOMEWHERE', 'unixepoch': 1611545853, 'args': [0.17407178642983182, 0.00032120913180486784, -0.6091971336861763, -0.7736780740736857]}, {'fx': 'ROT_WITH_QUATERNION', 'dest': 'SOMEWHERE', 'unixepoch': 1611545854, 'args': [0.17404286179024775, 0.0003210597190088684, -0.6117351553341954, -0.7716793886769074]}, {'fx': 'ROT_WITH_QUATERNION', 'dest': 'SOMEWHERE', 'unixepoch': 1611545855, 'args': [0.17401564407134204, 0.00032090517923443824, -0.6142671843136044, -0.7696715396282615]}, {'fx': 'ROT_WITH_QUATERNION', 'dest': 'SOMEWHERE', 'unixepoch': 1611545856, 'args': [0.1739901341104094, 0.00032074551096463594, -0.616793137518997, -0.7676545810871129]}, {'fx': 'ROT_WITH_QUATERNION', 'dest': 'SOMEWHERE', 'unixepoch': 1611545857, 'args': [0.17396633269278652, 0.0003205807130766107, -0.6193129322944585, -0.7656285680473717]}, {'fx': 'ROT_WITH_QUATERNION', 'dest': 'SOMEWHERE', 'unixepoch': 1611545858, 'args': [0.17394424055172952, 0.0003204107848619813, -0.6218264864465688, -0.763593556330412]}, {'fx': 'ROT_WITH_QUATERNION', 'dest': 'SOMEWHERE', 'unixepoch': 1611545859, 'args': [0.17392385836831986, 0.000320235725988064, -0.6243337182569488, -0.7615496025780654]}, {'fx': 'ROT_WITH_QUATERNION', 'dest': 'SOMEWHERE', 'unixepoch': 1611545860, 'args': [0.17390518677135133, 0.00032005553653655485, -0.6268345464950672, -0.7594967642451143]}, {'fx': 'ROT_WITH_QUATERNION', 'dest': 'SOMEWHERE', 'unixepoch': 1611545861, 'args': [0.17388822633724432, 0.0003198702169852075, -0.6293288904307565, -0.7574350995917237]}, {'fx': 'ROT_WITH_QUATERNION', 'dest': 'SOMEWHERE', 'unixepoch': 1611545862, 'args': [0.17387297758995815, 0.00031967976821308826, -0.63181666984667, -0.755364667675628]}, {'fx': 'ROT_WITH_QUATERNION', 'dest': 'SOMEWHERE', 'unixepoch': 1611545863, 'args': [0.17385944100091583, 0.0003194841914969546, -0.6342978050505936, -0.7532855283441328]}, {'fx': 'ROT_WITH_QUATERNION', 'dest': 'SOMEWHERE', 'unixepoch': 1611545864, 'args': [0.17384761698893264, 0.00031928348851588986, -0.6367722168876824, -0.7511977422258863]}, {'fx': 'ROT_WITH_QUATERNION', 'dest': 'SOMEWHERE', 'unixepoch': 1611545865, 'args': [0.17383750592015573, 0.0003190776613467438, -0.6392398267525283, -0.7491013707224835]}, {'fx': 'ROT_WITH_QUATERNION', 'dest': 'SOMEWHERE', 'unixepoch': 1611545866, 'args': [0.17382910810801008, 0.00031886671246804697, -0.6417005566011398, -0.7469964759998412]}, {'fx': 'ROT_WITH_QUATERNION', 'dest': 'SOMEWHERE', 'unixepoch': 1611545867, 'args': [0.17382242381315136, 0.0003186506447560108, -0.6441543289627552, -0.7448831209794127]}, {'fx': 'ROT_WITH_QUATERNION', 'dest': 'SOMEWHERE', 'unixepoch': 1611545868, 'args': [0.17381745324342796, 0.00031842946148717607, -0.646601066951554, -0.7427613693291804]}, {'fx': 'ROT_WITH_QUATERNION', 'dest': 'SOMEWHERE', 'unixepoch': 1611545869, 'args': [0.1738141965538511, 0.00031820316633647625, -0.6490406942782012, -0.7406312854544796]}, {'fx': 'ROT_WITH_QUATERNION', 'dest': 'SOMEWHERE', 'unixepoch': 1611545870, 'args': [0.17381265384657005, 0.0003179717633755587, -0.6514731352612535, -0.7384929344886396]}, {'fx': 'ROT_WITH_QUATERNION', 'dest': 'SOMEWHERE', 'unixepoch': 1611545871, 'args': [0.17381282517085878, 0.0003177352570746797, -0.653898314838431, -0.7363463822834273]}, {'fx': 'ROT_WITH_QUATERNION', 'dest': 'SOMEWHERE', 'unixepoch': 1611545872, 'args': [0.17381471052310887, 0.00031749365229973513, -0.6563161585777151, -0.7341916953993284]}, {'fx': 'ROT_WITH_QUATERNION', 'dest': 'SOMEWHERE', 'unixepoch': 1611545873, 'args': [0.1738183098468297, 0.00031724695430939695, -0.658726592688282, -0.7320289410956701]}, {'fx': 'ROT_WITH_QUATERNION', 'dest': 'SOMEWHERE', 'unixepoch': 1611545874, 'args': [0.17382362303265259, 0.0003169951687709205, -0.6611295440314132, -0.7298581873204415]}, {'fx': 'ROT_WITH_QUATERNION', 'dest': 'SOMEWHERE', 'unixepoch': 1611545875, 'args': [0.17383064991835775, 0.0003167383017230567, -0.663524940130933, -0.7276795027002284]}, {'fx': 'ROT_WITH_QUATERNION', 'dest': 'SOMEWHERE', 'unixepoch': 1611545876, 'args': [0.17383939028888704, 0.0003164763596119926, -0.6659127091838087, -0.7254929565296836]}, {'fx': 'ROT_WITH_QUATERNION', 'dest': 'SOMEWHERE', 'unixepoch': 1611545877, 'args': [0.17384984387638264, 0.00031620934927068363, -0.668292780070398, -0.7232986187610091]}, {'fx': 'ROT_WITH_QUATERNION', 'dest': 'SOMEWHERE', 'unixepoch': 1611545878, 'args': [0.17386201036022317, 0.0003159372779236043, -0.6706650823645806, -0.7210965599932148]}, {'fx': 'ROT_WITH_QUATERNION', 'dest': 'SOMEWHERE', 'unixepoch': 1611545879, 'args': [0.1738758893670742, 0.0003156601531810628, -0.6730295463436807, -0.7188868514612685]}, {'fx': 'ROT_WITH_QUATERNION', 'dest': 'SOMEWHERE', 'unixepoch': 1611545880, 'args': [0.17389148047094027, 0.0003153779830420119, -0.6753861029982388, -0.7166695650250574]}, {'fx': 'ROT_WITH_QUATERNION', 'dest': 'SOMEWHERE', 'unixepoch': 1611545881, 'args': [0.17390878319323158, 0.00031509077589020714, -0.6777346840415819, -0.7144447731582266]}, {'fx': 'ROT_WITH_QUATERNION', 'dest': 'SOMEWHERE', 'unixepoch': 1611545882, 'args': [0.17392779700282998, 0.00031479854049187264, -0.6800752219192077, -0.712212548936876]}, {'fx': 'ROT_WITH_QUATERNION', 'dest': 'SOMEWHERE', 'unixepoch': 1611545883, 'args': [0.17394852131617203, 0.00031450128599607146, -0.6824076498179878, -0.709972966028108]}, {'fx': 'ROT_WITH_QUATERNION', 'dest': 'SOMEWHERE', 'unixepoch': 1611545884, 'args': [0.1739709554973336, 0.00031419902193107033, -0.6847319016751674, -0.7077260986784568]}, {'fx': 'ROT_WITH_QUATERNION', 'dest': 'SOMEWHERE', 'unixepoch': 1611545885, 'args': [0.17399509885811984, 0.0003138917582028077, -0.6870479121871765, -0.7054720217021786]}, {'fx': 'ROT_WITH_QUATERNION', 'dest': 'SOMEWHERE', 'unixepoch': 1611545886, 'args': [0.17402095065817313, 0.0003135795050929291, -0.6893556168182372, -0.7032108104694267]}, {'fx': 'ROT_WITH_QUATERNION', 'dest': 'SOMEWHERE', 'unixepoch': 1611545887, 'args': [0.1740485101050769, 0.0003132622732565791, -0.6916549518087696, -0.7009425408943017]}, {'fx': 'ROT_WITH_QUATERNION', 'dest': 'SOMEWHERE', 'unixepoch': 1611545888, 'args': [0.1740777763544752, 0.00031294007371624594, -0.6939458541835726, -0.6986672894228151]}, {'fx': 'ROT_WITH_QUATERNION', 'dest': 'SOMEWHERE', 'unixepoch': 1611545889, 'args': [0.17410874851019054, 0.0003126129178788739, -0.6962282617599412, -0.6963851330205931]}, {'fx': 'ROT_WITH_QUATERNION', 'dest': 'SOMEWHERE', 'unixepoch': 1611545890, 'args': [0.17414142562436738, 0.00031228081749428154, -0.6985021131552621, -0.6940961491607895]}, {'fx': 'ROT_WITH_QUATERNION', 'dest': 'SOMEWHERE', 'unixepoch': 1611545891, 'args': [0.1741758066975986, 0.0003119437846919027, -0.7007673477947342, -0.6918004158115619]}, {'fx': 'ROT_WITH_QUATERNION', 'dest': 'SOMEWHERE', 'unixepoch': 1611545892, 'args': [0.17421189067907664, 0.00031160183195919197, -0.7030239059186946, -0.6894980114236321]}, {'fx': 'ROT_WITH_QUATERNION', 'dest': 'SOMEWHERE', 'unixepoch': 1611545893, 'args': [0.1742496764667491, 0.0003112549721418277, -0.7052717285897672, -0.6871890149177134]}, {'fx': 'ROT_WITH_QUATERNION', 'dest': 'SOMEWHERE', 'unixepoch': 1611545894, 'args': [0.17428916290747543, 0.0003109032184404252, -0.7075107576997997, -0.6848735056718542]}, {'fx': 'ROT_WITH_QUATERNION', 'dest': 'SOMEWHERE', 'unixepoch': 1611545895, 'args': [0.17433034879719825, 0.0003105465844107868, -0.7097409359765845, -0.6825515635086835]}, {'fx': 'ROT_WITH_QUATERNION', 'dest': 'SOMEWHERE', 'unixepoch': 1611545896, 'args': [0.17437323288111506, 0.0003101850839574847, -0.7119622069903535, -0.68022326868259]}, {'fx': 'ROT_WITH_QUATERNION', 'dest': 'SOMEWHERE', 'unixepoch': 1611545897, 'args': [0.17441781385386523, 0.0003098187313324757, -0.7141745151600467, -0.6778887018668363]}, {'fx': 'ROT_WITH_QUATERNION', 'dest': 'SOMEWHERE', 'unixepoch': 1611545898, 'args': [0.17446409035971322, 0.00030944754113193095, -0.7163778057593724, -0.6755479441405798]}, {'fx': 'ROT_WITH_QUATERNION', 'dest': 'SOMEWHERE', 'unixepoch': 1611545899, 'args': [0.1745120609927503, 0.0003090715282932967, -0.7185720249226308, -0.6732010769758493]}, {'fx': 'ROT_WITH_QUATERNION', 'dest': 'SOMEWHERE', 'unixepoch': 1611545900, 'args': [0.1745617242970941, 0.00030869070809183487, -0.7207571196503203, -0.6708481822244479]}, {'fx': 'ROT_WITH_QUATERNION', 'dest': 'SOMEWHERE', 'unixepoch': 1611545901, 'args': [0.17461307876709994, 0.000308305096136914, -0.722933037814507, -0.6684893421048169]}, {'fx': 'ROT_WITH_QUATERNION', 'dest': 'SOMEWHERE', 'unixepoch': 1611545902, 'args': [0.17466612284757746, 0.0003079147083692363, -0.7250997281639757, -0.6661246391888351]}, {'fx': 'ROT_WITH_QUATERNION', 'dest': 'SOMEWHERE', 'unixepoch': 1611545903, 'args': [0.1747208549340143, 0.0003075195610533865, -0.7272571403291207, -0.6637541563886109]}, {'fx': 'ROT_WITH_QUATERNION', 'dest': 'SOMEWHERE', 'unixepoch': 1611545904, 'args': [0.17477727337280136, 0.00030711967079453294, -0.7294052248267592, -0.6613779769430652]}, {'fx': 'ROT_WITH_QUATERNION', 'dest': 'SOMEWHERE', 'unixepoch': 1611545905, 'args': [0.17483537646148145, 0.0003067150544938638, -0.7315439330643989, -0.6589961844048245]}, {'fx': 'ROT_WITH_QUATERNION', 'dest': 'SOMEWHERE', 'unixepoch': 1611545906, 'args': [0.17489516244897696, 0.00030630572938631734, -0.7336732173446066, -0.6566088626267239]}, {'fx': 'ROT_WITH_QUATERNION', 'dest': 'SOMEWHERE', 'unixepoch': 1611545907, 'args': [0.1749566295358507, 0.000305891713015657, -0.7357930308689631, -0.6542160957484771]}, {'fx': 'ROT_WITH_QUATERNION', 'dest': 'SOMEWHERE', 'unixepoch': 1611545908, 'args': [0.1750197758745552, 0.0003054730232365453, -0.7379033277418426, -0.6518179681832711]}, {'fx': 'ROT_WITH_QUATERNION', 'dest': 'SOMEWHERE', 'unixepoch': 1611545909, 'args': [0.17508459956969732, 0.0003050496782081424, -0.7400040629739422, -0.64941456460436]}, {'fx': 'ROT_WITH_QUATERNION', 'dest': 'SOMEWHERE', 'unixepoch': 1611545910, 'args': [0.17515109867830655, 0.0003046216963927274, -0.7420951924855909, -0.6470059699316367]}, {'fx': 'ROT_WITH_QUATERNION', 'dest': 'SOMEWHERE', 'unixepoch': 1611545911, 'args': [0.1752192712101065, 0.00030418909654997956, -0.7441766731098244, -0.6445922693181996]}, {'fx': 'ROT_WITH_QUATERNION', 'dest': 'SOMEWHERE', 'unixepoch': 1611545912, 'args': [0.17528911512779777, 0.0003037518977342546, -0.746248462595227, -0.6421735481369175]}, {'fx': 'ROT_WITH_QUATERNION', 'dest': 'SOMEWHERE', 'unixepoch': 1611545913, 'args': [0.17536062834734198, 0.0003033101192905373, -0.7483105196085493, -0.6397498919669933]}, {'fx': 'ROT_WITH_QUATERNION', 'dest': 'SOMEWHERE', 'unixepoch': 1611545914, 'args': [0.17543380873825315, 0.0003028637808490654, -0.7503628037370856, -0.6373213865805387]}, {'fx': 'ROT_WITH_QUATERNION', 'dest': 'SOMEWHERE', 'unixepoch': 1611545915, 'args': [0.17550865412389688, 0.00030241290232242365, -0.7524052754908253, -0.6348881179291597]}, {'fx': 'ROT_WITH_QUATERNION', 'dest': 'SOMEWHERE', 'unixepoch': 1611545916, 'args': [0.17558516228179127, 0.00030195750390119095, -0.7544378963043776, -0.6324501721305543]}, {'fx': 'ROT_WITH_QUATERNION', 'dest': 'SOMEWHERE', 'unixepoch': 1611545917, 'args': [0.17566333094391545, 0.0003014976060495561, -0.7564606285386668, -0.6300076354551325]}, {'fx': 'ROT_WITH_QUATERNION', 'dest': 'SOMEWHERE', 'unixepoch': 1611545918, 'args': [0.17574315779702498, 0.0003010332294971314, -0.7584734354823683, -0.6275605943126918]}, {'fx': 'ROT_WITH_QUATERNION', 'dest': 'SOMEWHERE', 'unixepoch': 1611545919, 'args': [0.17582464048296612, 0.00030056439525393333, -0.7604762813532557, -0.6251091352389632]}, {'fx': 'ROT_WITH_QUATERNION', 'dest': 'SOMEWHERE', 'unixepoch': 1611545920, 'args': [0.17590777659900897, 0.0003000911245685502, -0.7624691312990491, -0.6226533448825143]}, {'fx': 'ROT_WITH_QUATERNION', 'dest': 'SOMEWHERE', 'unixepoch': 1611545921, 'args': [0.17599256369816713, 0.00029961343896028626, -0.7644519513983183, -0.6201933099913584]}, {'fx': 'ROT_WITH_QUATERNION', 'dest': 'SOMEWHERE', 'unixepoch': 1611545922, 'args': [0.17607899928953707, 0.0002991313601965976, -0.7664247086610058, -0.6177291173997846]}, {'fx': 'ROT_WITH_QUATERNION', 'dest': 'SOMEWHERE', 'unixepoch': 1611545923, 'args': [0.17616708083863553, 0.0002986449102935653, -0.7683873710287799, -0.6152608540151824]}, {'fx': 'ROT_WITH_QUATERNION', 'dest': 'SOMEWHERE', 'unixepoch': 1611545924, 'args': [0.17625680576774466, 0.0002981541115095343, -0.7703399073751473, -0.61278860680493]}, {'fx': 'ROT_WITH_QUATERNION', 'dest': 'SOMEWHERE', 'unixepoch': 1611545925, 'args': [0.17634817145625942, 0.0002976589863408173, -0.7722822875053508, -0.6103124627833387]}, {'fx': 'ROT_WITH_QUATERNION', 'dest': 'SOMEWHERE', 'unixepoch': 1611545926, 'args': [0.17644117524104097, 0.0002971595575194105, -0.7742144821560564, -0.6078325089986448]}, {'fx': 'ROT_WITH_QUATERNION', 'dest': 'SOMEWHERE', 'unixepoch': 1611545927, 'args': [0.17653581441677463, 0.00029665584800567946, -0.7761364629948149, -0.6053488325200703]}, {'fx': 'ROT_WITH_QUATERNION', 'dest': 'SOMEWHERE', 'unixepoch': 1611545928, 'args': [0.17663208623633114, 0.0002961478809842986, -0.778048202619308, -0.6028615204249627]}, {'fx': 'ROT_WITH_QUATERNION', 'dest': 'SOMEWHERE', 'unixepoch': 1611545929, 'args': [0.17672998791113384, 0.00029563567986190097, -0.7799496745563899, -0.600370659785983]}, {'fx': 'ROT_WITH_QUATERNION', 'dest': 'SOMEWHERE', 'unixepoch': 1611545930, 'args': [0.17682951661152702, 0.00029511926825850167, -0.7818408532609066, -0.5978763376583894]}, {'fx': 'ROT_WITH_QUATERNION', 'dest': 'SOMEWHERE', 'unixepoch': 1611545931, 'args': [0.17693066946715147, 0.0002945986700074681, -0.7837217141143202, -0.5953786410673809]}, {'fx': 'ROT_WITH_QUATERNION', 'dest': 'SOMEWHERE', 'unixepoch': 1611545932, 'args': [0.1770334435673232, 0.0002940739091460742, -0.7855922334231055, -0.5928776569955456]}, {'fx': 'ROT_WITH_QUATERNION', 'dest': 'SOMEWHERE', 'unixepoch': 1611545933, 'args': [0.17713783596141439, 0.00029354500991516123, -0.7874523884169676, -0.5903734723703693]}, {'fx': 'ROT_WITH_QUATERNION', 'dest': 'SOMEWHERE', 'unixepoch': 1611545934, 'args': [0.17724384365923856, 0.0002930119967469091, -0.7893021572468044, -0.5878661740518925]}, {'fx': 'ROT_WITH_QUATERNION', 'dest': 'SOMEWHERE', 'unixepoch': 1611545935, 'args': [0.1773514636314382, 0.00029247489428184967, -0.79114151898262, -0.5853558488202676]}, {'fx': 'ROT_WITH_QUATERNION', 'dest': 'SOMEWHERE', 'unixepoch': 1611545936, 'args': [0.17746069280988744, 0.0002919337273248833, -0.7929704536109574, -0.5828425833637808]}, {'fx': 'ROT_WITH_QUATERNION', 'dest': 'SOMEWHERE', 'unixepoch': 1611545937, 'args': [0.17757152808807225, 0.00029138852087797997, -0.7947889420324286, -0.5803264642665973]}, {'fx': 'ROT_WITH_QUATERNION', 'dest': 'SOMEWHERE', 'unixepoch': 1611545938, 'args': [0.17768396632150102, 0.0002908393001186659, -0.7965969660588854, -0.5778075779968103]}, {'fx': 'ROT_WITH_QUATERNION', 'dest': 'SOMEWHERE', 'unixepoch': 1611545939, 'args': [0.1777980043281034, 0.0002902860903956772, -0.7983945084104492, -0.5752860108945518]}, {'fx': 'ROT_WITH_QUATERNION', 'dest': 'SOMEWHERE', 'unixepoch': 1611545940, 'args': [0.17791363888863485, 0.00028972891722693324, -0.8001815527123399, -0.572761849160214]}, {'fx': 'ROT_WITH_QUATERNION', 'dest': 'SOMEWHERE', 'unixepoch': 1611545941, 'args': [0.17803086674708737, 0.0002891678062943256, -0.8019580834915307, -0.5702351788427751]}, {'fx': 'ROT_WITH_QUATERNION', 'dest': 'SOMEWHERE', 'unixepoch': 1611545942, 'args': [0.1781496846110971, 0.0002886027834372159, -0.8037240861732103, -0.5677060858282548]}, {'fx': 'ROT_WITH_QUATERNION', 'dest': 'SOMEWHERE', 'unixepoch': 1611545943, 'args': [0.17827008915236195, 0.00028803387465045334, -0.8054795470770717, -0.565174655828277]}]\n"
     ]
    }
   ],
   "source": [
    "if alerts:\n",
    "    print(\"list of commands generated successfully!\")\n",
    "    print(att.generated_commands)\n",
    "else:\n",
    "    print(\"list of commands generated but some warnings prompted:\")\n",
    "    print(alerts)"
   ]
  },
  {
   "source": [
    "And now you just have to save the list of commands as a `.json` file like this:"
   ],
   "cell_type": "markdown",
   "metadata": {}
  },
  {
   "cell_type": "code",
   "execution_count": 39,
   "metadata": {},
   "outputs": [],
   "source": [
    "f = open(\"generated_commands.json\", \"w\")\n",
    "str_generated_commands = json.dumps(att.generated_commands) # we stringify the list of commands into .json\n",
    "f.write(str_generated_commands) # and write the string into this file\n",
    "f.close()"
   ]
  },
  {
   "source": [
    "## Files for VTS visualisation\n",
    "\n",
    "And you can finally generate files for VTS (position, orientation, and events for executed commands) like this:"
   ],
   "cell_type": "markdown",
   "metadata": {}
  },
  {
   "cell_type": "code",
   "execution_count": 40,
   "metadata": {},
   "outputs": [
    {
     "output_type": "execute_result",
     "data": {
      "text/plain": [
       "334204"
      ]
     },
     "metadata": {},
     "execution_count": 40
    }
   ],
   "source": [
    "f = open(\"vts_pos.txt\", \"w\")\n",
    "f.write(Vts.generate_position(simu))\n",
    "f.close()\n",
    "f = open(\"vts_quat.txt\", \"w\")\n",
    "f.write(Vts.generate_orientation(att))\n",
    "f.close()\n",
    "f = open(\"vts_commands_event.txt\", \"w\")\n",
    "f.write(Vts.generate_commands(att))"
   ]
  },
  {
   "source": [
    "That's it! Now you can go on and converts this file into a binary file, ready to be sent to satellite!"
   ],
   "cell_type": "markdown",
   "metadata": {}
  }
 ]
}