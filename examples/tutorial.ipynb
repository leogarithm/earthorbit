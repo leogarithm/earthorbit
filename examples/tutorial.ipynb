{
 "metadata": {
  "language_info": {
   "codemirror_mode": {
    "name": "ipython",
    "version": 3
   },
   "file_extension": ".py",
   "mimetype": "text/x-python",
   "name": "python",
   "nbconvert_exporter": "python",
   "pygments_lexer": "ipython3",
   "version": "3.9.0-final"
  },
  "orig_nbformat": 2,
  "kernelspec": {
   "name": "python3",
   "display_name": "Python 3.9.0 64-bit",
   "metadata": {
    "interpreter": {
     "hash": "b2f436b06ddc0c40462c8bf447e888e015242cca8e6db56360afb5c0f1b788c8"
    }
   }
  }
 },
 "nbformat": 4,
 "nbformat_minor": 2,
 "cells": [
  {
   "source": [
    "# `earthorbit` library tutorial: cubesat simulation walkthrought\n",
    "This Jupyter notebook will guide you throught the entire simulation of a cubesat. You will learn how to:\n",
    "- Create the informations of your simulation (groundstations, regions of interest)\n",
    "- Create the informations of your satellite (commands to be executed, hardware destination for these commands)\n",
    "- Gather the orbital informations for your satellite and append the orbit into the script\n",
    "- Make a simulation of this orbit during a period of time, will generate events related to sky events, groundstation events, ROI events\n",
    "- Append commands to be send to satellite, and target attitudes suring simulation\n",
    "- Generate VTS (CNES software) files for this simulation in order to visualise and make verifications\n",
    "- Generate a final `.json` file containing all the commands to be executed by satellite in order to do everything you asked. File ready to be converted into binary file."
   ],
   "cell_type": "markdown",
   "metadata": {}
  },
  {
   "source": [
    "# Before starting\n",
    "\n",
    "- The library uses `arrow` for time manipulation, `pyquaternion` for quaternion manipulation, and `numpy` of course.\n",
    "- All units for physical values are specified *everywhere.* If it is not the case, consider using SI units.\n",
    "- GCRS means Geocentric Celestial Reference System: Frame where origin is mass center of Earth, `x` along vernal point, `z` along north pole\n",
    "- ITRS MEANS International Terrestial Reference System: Frame where origin is mass center of Earth `x` is along `(0°, 0°)` GPS location, `z` along north pole"
   ],
   "cell_type": "markdown",
   "metadata": {}
  },
  {
   "cell_type": "code",
   "execution_count": null,
   "metadata": {},
   "outputs": [],
   "source": [
    "import sys\n",
    "import json\n",
    "import os\n",
    "\n",
    "from earthorbit.attitude import Attitude\n",
    "from earthorbit.simulation import Simulation\n",
    "from earthorbit.orbit import Orbit\n",
    "from earthorbit.macro import Macro\n",
    "from earthorbit.maths import Maths\n",
    "from earthorbit.timeconversion import TimeConversion\n",
    "from earthorbit.vts import Vts\n",
    "\n",
    "import numpy as np\n",
    "import arrow\n",
    "import matplotlib.image as mpimg\n",
    "import pyquaternion as pq"
   ]
  },
  {
   "source": [
    "# Gather information for simulation\n",
    "## Groundstations (GS) informations\n",
    "Groundstations informations are stored in a .json file inside the directory. \n",
    "`.json` file is a list containing objets. Objets has to have this syntax\n",
    "```json\n",
    "{\n",
    "        \"name\": \"your_gs_name_here\", \n",
    "        \"lon\": 0,\n",
    "        \"lat\": 0,\n",
    "        \"distance\": 123456,\n",
    "        \"semi_angle_visibility\": 3.141592653589793,\n",
    "        \"color\": \"#3030a0\"\n",
    "}\n",
    "```\n",
    "\n",
    "- `lon` `lat` elements are longitude and latitude for GS. value is float, unit degree \\[°\\]\n",
    "- `distance` element is altitude for GS. value is float, unit meter \\[m\\]\n",
    "- `semi_angle_visibility` element is the maximum angle (radial vector, vector from GS to satellite) where satellite is visible by GS \\[rad\\]\n",
    "- `color` element is a hexadecimal color stored in a string. chose whatever your want. this can be used for UI\n",
    "\n",
    "Now load the file and store it inside a variable"
   ],
   "cell_type": "markdown",
   "metadata": {}
  },
  {
   "cell_type": "code",
   "execution_count": null,
   "metadata": {},
   "outputs": [],
   "source": [
    "gs_file = open(\"groundstations.json\", \"r\")\n",
    "gs = json.loads(gs_file.read())"
   ]
  },
  {
   "source": [
    "## Region Of Interest (ROI) informations for simulation\n",
    "ROI are areas that can be detected when flightover by satellite.\n",
    "\n",
    "Each ROI is stored inside `.bmp` (bitmap) file, size `360x180,` where each pixel covers an area of `1°x1°` of the equirectangular projection of the Earth.\n",
    "\n",
    "If a pixel is red in this file, the area corresponding will be asigned to this ROI. The top-left pixel `(0,0)` corresponds to coordinates `(lon=-180°, lat=90°).`\n",
    "The bottom-left pixel `(0, 180)` corresponds to coordinates `(lon=-180°, lat=-90°)`\n",
    "The middle pixel `(180, 90)` corresponds to coordinates `(lon=0°, lat=0°)`\n",
    "\n",
    "It is recommended, in order to manually draw your ROI, to use a software --such as **MS Paint** on Windows-- that can edit and save files to `.bmp` format.\n",
    "A useful template for creating a ROI this way can be found in the directory 'files'\n",
    "\n",
    "FYI: make sure to save the file with \"Save as...\" in order not to overwrite the template and make it unnusable again"
   ],
   "cell_type": "markdown",
   "metadata": {}
  },
  {
   "cell_type": "code",
   "execution_count": null,
   "metadata": {},
   "outputs": [],
   "source": [
    "roi = [] # list that will contain the filenames for ROIs\n",
    "\n",
    "for filename in os.listdir(): # loop for all the files in directory, to gather the file names of your images\n",
    "    if filename.endswith(\".bmp\"): # we assume if filename ends with '.bmp' it is a file used for ROI\n",
    "        roi.append(filename)"
   ]
  },
  {
   "source": [
    "## Commands list for satellite\n",
    "Commands used by satellite are stored in `.json` file.\n",
    "\n",
    "`.json` file is an object where each key is the ID of the command, and its value is an object with two elements:\n",
    "- `name` element is a string, containing the name of the command\n",
    "- `args` element is a list, where its elements are string. These corresponds to the TYPE of the argument that has to be passed to the satellite for command execution. Careful, position of the strings therefore matter!\n",
    "\n",
    "### Example:\n",
    "```json\n",
    "{\n",
    "    \"0\": {\n",
    "        \"name\": \"BOOT\",\n",
    "        \"args\": [\n",
    "            \"uint8\",\n",
    "            \"float\"\n",
    "        ]\n",
    "    },\n",
    "    \"1234\": {\n",
    "        \"name\": \"HELLO_WORLD\",\n",
    "        \"args\": []\n",
    "    },\n",
    "    \"1\": {\n",
    "        \"name\": \"TAKE_PIC\",\n",
    "        \"args\": [\n",
    "            \"uint8\"\n",
    "        ]\n",
    "    },\n",
    "    \"2\": {\n",
    "        \"name\": \"SEND_PIC\",\n",
    "        \"args\": [\n",
    "            \"bool\"\n",
    "        ]\n",
    "    }\n",
    "}\n",
    "```\n",
    "\n",
    "As before, we load the file and parse it into a Python dictionary\n"
   ],
   "cell_type": "markdown",
   "metadata": {}
  },
  {
   "cell_type": "code",
   "execution_count": null,
   "metadata": {},
   "outputs": [],
   "source": [
    "commands_file = open(\"commands.json\", \"r\")\n",
    "commands = json.loads(commands_file.read())"
   ]
  },
  {
   "source": [
    "## Destination list for satellite\n",
    "\n",
    "Destinations available where to send the commands.\n",
    "\n",
    "`.json` file is an object where each key is the ID of the destination, and its value is a string corresponding to the display name of the destination\n",
    "\n",
    "### Example:\n",
    "```json\n",
    "{\n",
    "    \"0\": \"SOMEWHERE\",\n",
    "    \"1\": \"ANOTHER_DESTINATION\"\n",
    "}\n",
    "```"
   ],
   "cell_type": "markdown",
   "metadata": {}
  },
  {
   "cell_type": "code",
   "execution_count": null,
   "metadata": {},
   "outputs": [],
   "source": [
    "destinations_file = open(\"destinations.json\", \"r\")\n",
    "destinations = json.loads(destinations_file.read())"
   ]
  },
  {
   "source": [
    "## Get initial orientation of satellite\n",
    "\n",
    "In order to make correct computations, you have to know how your satellite is oriented into space.\n",
    "For this you have to compute by yourself the orientation quaternion of the satellite for the beggining of simulation.\n",
    "\n",
    "*NB: the satellite's camera is located along the `x` axis*"
   ],
   "cell_type": "markdown",
   "metadata": {}
  },
  {
   "cell_type": "code",
   "execution_count": null,
   "metadata": {},
   "outputs": [],
   "source": [
    "start_attitude_quat = pq.Quaternion(w=0, x=1, y=0, z=0) # quaternion rotation in GCRS. for this example the rotation quaternion is null, which means the x axis of satellite will be along x axis of GCRS coordinates"
   ]
  },
  {
   "source": [
    "# Creation of the orbit\n",
    "Now is time to create the orbit of your satellite. You can do so by many ways, and we are going to give you an example for each way.\n",
    "\n",
    "- CATNR (catalog number for Celestrak.com)\n",
    "- classical orbit elements (semi major axis, eccentricity, raan, arg of periaster, inclination, mean motion, mean anomaly, and epoch)\n",
    "- state vectors at given epoch (position in  \\[m\\], velocity in \\[m/s\\])\n",
    "- TLE string"
   ],
   "cell_type": "markdown",
   "metadata": {}
  },
  {
   "cell_type": "code",
   "execution_count": null,
   "metadata": {},
   "outputs": [],
   "source": [
    "epoch = arrow.utcnow() # firstly we gather the current time"
   ]
  },
  {
   "source": [
    "## From classical elements\n",
    "angles should be in \\[rad\\], mean motion should be in \\[rad/s\\], and epoch should be an `arrow` Python object\n"
   ],
   "cell_type": "markdown",
   "metadata": {}
  },
  {
   "cell_type": "code",
   "execution_count": null,
   "metadata": {},
   "outputs": [],
   "source": [
    "e = 0.0000452\n",
    "i = np.deg2rad(51.6462) # conversion [°] -> [rad]\n",
    "raan = np.deg2rad(33.4496) # conversion [°] -> [rad]\n",
    "argp = np.deg2rad(211.9192) # conversion [°] -> [rad]\n",
    "M = np.deg2rad(275.9732) # conversion [°] -> [rad]\n",
    "n = TimeConversion.revperday2radpersec(15.49281578) # conversion [rev/day] -> [rad/s]\n",
    "\n",
    "orbit = Orbit(epoch, e, i, raan, argp, n, M, \"ISS_test_1!\")"
   ]
  },
  {
   "source": [
    "## From state vectors\n",
    "position in \\[m\\], velocity in \\[m/s\\]"
   ],
   "cell_type": "markdown",
   "metadata": {}
  },
  {
   "cell_type": "code",
   "execution_count": null,
   "metadata": {},
   "outputs": [],
   "source": [
    "pos = np.array([-3819725.8559629 , -4986069.94117591, -2596794.58492448])\n",
    "vel = np.array([5403.09180268, -1402.73349405, -5242.91201507])\n",
    "\n",
    "orbit = Orbit.from_state_vectors(pos, vel, epoch, name=\"ISS_test_2!\")"
   ]
  },
  {
   "source": [
    "## From TLE"
   ],
   "cell_type": "markdown",
   "metadata": {}
  },
  {
   "cell_type": "code",
   "execution_count": null,
   "metadata": {},
   "outputs": [],
   "source": [
    "tle = \"\"\"ISS (ZARYA)\n",
    "1 25544U 98067A   21012.36590653  .00001229  00000+0  30152-4 0  9991\n",
    "2 25544  51.6462  33.4496 0000452 211.9192 275.9732 15.49281578264446\"\"\"\n",
    "\n",
    "orbit = Orbit.from_tle(tle)"
   ]
  },
  {
   "source": [
    "## From Celestrak .json\n",
    "You can also make your own request to Celestrak and copy/paste the `.json` result as a string"
   ],
   "cell_type": "markdown",
   "metadata": {}
  },
  {
   "cell_type": "code",
   "execution_count": null,
   "metadata": {},
   "outputs": [],
   "source": [
    "str_json = '[{\"OBJECT_NAME\":\"ISS (ZARYA)\",\"OBJECT_ID\":\"1998-067A\",\"EPOCH\":\"2021-01-12T08:46:54.324192\",\"MEAN_MOTION\":15.49281578,\"ECCENTRICITY\":4.52e-5,\"INCLINATION\":51.6462,\"RA_OF_ASC_NODE\":33.4496,\"ARG_OF_PERICENTER\":211.9192,\"MEAN_ANOMALY\":275.9732,\"EPHEMERIS_TYPE\":0,\"CLASSIFICATION_TYPE\":\"U\",\"NORAD_CAT_ID\":25544,\"ELEMENT_SET_NO\":999,\"REV_AT_EPOCH\":26444,\"BSTAR\":3.0152e-5,\"MEAN_MOTION_DOT\":1.229e-5,\"MEAN_MOTION_DDOT\":0}]'\n",
    "\n",
    "orbit = Orbit.from_celestrak_json(str_json)"
   ]
  },
  {
   "source": [
    "## From CATNR\n",
    "The easiest way. If you know your satellite catalog number (example: 25544 for ISS)\n",
    "IMPORTANT: This method makes a request to Celestrak.com. Therefore you have to be connected to the internet for this way to work!"
   ],
   "cell_type": "markdown",
   "metadata": {}
  },
  {
   "cell_type": "code",
   "execution_count": null,
   "metadata": {},
   "outputs": [],
   "source": [
    "catnr = 25544 # catalog number for ISS\n",
    "orbit = Orbit.from_celestrak_norad_cat_id(catnr) # give the CATNR in the argument. and voilà!"
   ]
  },
  {
   "cell_type": "code",
   "execution_count": null,
   "metadata": {},
   "outputs": [],
   "source": [
    "# You can print the orbit informations to make sure it is ok\n",
    "print(\"Orbital elements of satellite:\")\n",
    "print(orbit.orbital_elements)"
   ]
  },
  {
   "source": [
    "# Orbit simulation\n",
    "\n",
    "Now that the orbit is created, it is time to to make a simulation for a given amount of time.\n",
    "For the purpose of this example, we are going to make a simulation from now, for a duration of 7 days\n",
    "We are going to use the informations about groundstations, ROI, commands, etc. \n",
    "\n",
    "We are going to use the `Simulation` class of our library. Here is the list of the parameters\n",
    "\n",
    "- the actual orbit\n",
    "- the epoch corresponding to beggining of simulation\n",
    "- the duration of simulation \\[s\\]\n",
    "- the name for the simulation (string)\n",
    "- groundstation informations we gathered above\n",
    "- roi images we gathered above\n",
    "- `print_progress` optional boolean parameter to prompt into console the progress of simulation (recommended because simulation can take up to few minutes!)\n",
    "- `step_time` optional int parameter >= 1; the delta time of simulation"
   ],
   "cell_type": "markdown",
   "metadata": {}
  },
  {
   "cell_type": "code",
   "execution_count": null,
   "metadata": {},
   "outputs": [],
   "source": [
    "simu = Simulation(orbit, orbit.epoch, 60*60*24, \"ISS\", gs, roi, print_progress=True)"
   ]
  },
  {
   "source": [
    "Now the simulation is completed! For each time step we have a timestamp containing all of the infos for the satellite\n",
    "(aka position/velocity in GCRS, ITRS, GPS coordinates, Sun/Moon/GS visible, above what ROI, etc.)\n",
    "\n",
    "Here are a few examples of what you can do with the simulation."
   ],
   "cell_type": "markdown",
   "metadata": {}
  },
  {
   "cell_type": "code",
   "execution_count": null,
   "metadata": {},
   "outputs": [],
   "source": [
    "simu.timestamps # is a list, each element is a dict containing all of the info at an epoch (usually every second)\n",
    "\n",
    "# If you want to know these informations for a given time (let's say 1h after the beggining of simulation) you can retrieve a timestamp like this\n",
    "epoch_onehour_shifted = orbit.epoch.shift(minutes=1) # see 'Arrow' library in Python to know some features for epoch manipulation\n",
    "ts_onehour_shifted = simu.get_closest_timestamp(epoch_onehour_shifted)\n",
    "print(ts_onehour_shifted) # here is printed the dict for a certain epoch, you can see what is in there\n",
    "\n",
    "# You can see the events when each GS is visible by satellite, and when satellite is above each ROI\n",
    "simu.gs_events # events for GS\n",
    "simu.roi_events # events for ROI"
   ]
  },
  {
   "source": [
    "The longer is the simulation, the more it is going to weight in the memory (because every info for every second).\n",
    "This means it is recommended to have enough RAM on your computer (4GB or more recommended).\n",
    "\n",
    "You can see how much memory is used like this:"
   ],
   "cell_type": "markdown",
   "metadata": {}
  },
  {
   "cell_type": "code",
   "execution_count": null,
   "metadata": {},
   "outputs": [],
   "source": [
    "print(\"The simulation is taking {}MB of memory.\".format(simu.size_simu_MB()))"
   ]
  },
  {
   "source": [
    "# Commands and attitude handling\n",
    "First, you have to know what is the command needed for (QSW) rotation, and the destination.\n",
    "And store the ID of these (corresponding int key of dict) in a tuple: (command id, destination id)"
   ],
   "cell_type": "markdown",
   "metadata": {}
  },
  {
   "cell_type": "code",
   "execution_count": null,
   "metadata": {},
   "outputs": [],
   "source": [
    "qsw_rot_id = (111, 0) # in this example, the corresponding command rotation is located at the key '111'"
   ]
  },
  {
   "source": [
    "Now we are going to use `Attitude` class of our library to handle commands and orientations. The parameters for instantiation are:\n",
    "\n",
    "- the actual simulation\n",
    "- the list of commands gathered above\n",
    "- the list of destinations gathered above\n",
    "- the orientation attitude you computed above\n",
    "- `av_rot_vel` optional float parameter is the average rotation speed for satellite, given in \\[°/s\\] \n"
   ],
   "cell_type": "markdown",
   "metadata": {}
  },
  {
   "cell_type": "code",
   "execution_count": null,
   "metadata": {},
   "outputs": [],
   "source": [
    "att = Attitude(simu, commands, destinations, start_attitude_quat, qsw_rot_id, av_rot_vel=0.33)"
   ]
  },
  {
   "source": [
    "## Push commands\n",
    "We are now going to see how to push commands.\n",
    "\n",
    "### Example: you want to execute the command 'HELLO_WORLD' to destination 'SOMEWHERE' at precise epoch\n",
    "You find the corresponding ID of command and destination by printing the list with this command:"
   ],
   "cell_type": "markdown",
   "metadata": {}
  },
  {
   "cell_type": "code",
   "execution_count": null,
   "metadata": {},
   "outputs": [],
   "source": [
    "att.print_list_commands()"
   ]
  },
  {
   "cell_type": "code",
   "execution_count": null,
   "metadata": {},
   "outputs": [],
   "source": [
    "id_cmd = 1234\n",
    "id_dest = 0\n",
    "args = [] # this command takes no arguments, so empty list\n",
    "epoch_to_exe = orbit.epoch.shift(minutes=3) # 3 minutes after beggining of simulation, why not\n",
    "\n",
    "pushed_cmd_0 = att.push_command(epoch_to_exe, id_cmd, id_dest, args) # we push the command like this, and the function retunrs the ID assosiated with the push (you have to store it if you want to delete it later)"
   ]
  },
  {
   "source": [
    "That's it! Another example with 'TEST_FX' to 'SOMEWHERE' which takes for argument an integer 'uint8', a float, and a boolean.\n"
   ],
   "cell_type": "markdown",
   "metadata": {}
  },
  {
   "cell_type": "code",
   "execution_count": null,
   "metadata": {},
   "outputs": [],
   "source": [
    "id_cmd = 10101\n",
    "id_dest = 0\n",
    "args = [32, 12.0, True] # int, float, and boolean\n",
    "epoch_to_exe = epoch_to_exe.shift(minutes=10) # why not again\n",
    "\n",
    "pushed_cmd_1 = att.push_command(epoch_to_exe, id_cmd, id_dest, args)"
   ]
  },
  {
   "source": [
    "You can always see your pushed commands by accessing the list:"
   ],
   "cell_type": "markdown",
   "metadata": {}
  },
  {
   "cell_type": "code",
   "execution_count": null,
   "metadata": {},
   "outputs": [],
   "source": [
    "print(att.cmd_request)"
   ]
  },
  {
   "source": [
    "## Delete pushed commands\n",
    "If you want to delete a pushed command you previously pushed, just use the delete command with the ID returned when command pushing"
   ],
   "cell_type": "markdown",
   "metadata": {}
  },
  {
   "cell_type": "code",
   "execution_count": null,
   "metadata": {},
   "outputs": [],
   "source": [
    "att.del_command(pushed_cmd_1) # this deletes the second pushed command we entered before"
   ]
  },
  {
   "source": [
    "Now you can use all the power of Python to push your commands however you want :)"
   ],
   "cell_type": "markdown",
   "metadata": {}
  },
  {
   "source": [
    "## Push attitude\n",
    "You could rotate your satellite by using the `push_command` function, but a lot of complex calculation is needed for orientation...\n",
    "Hopefully there are special functions for \"rotation related\" commands.\n",
    "\n",
    "### Example: you want your satellite to be oriented along `z` axis in GCRS coordinates (direction from Earth center to north pole), at given epoch."
   ],
   "cell_type": "markdown",
   "metadata": {}
  },
  {
   "cell_type": "code",
   "execution_count": null,
   "metadata": {},
   "outputs": [],
   "source": [
    "north_dir = np.array([0, 0, 1])\n",
    "north_quat = Maths.get_orientation_quat(north_dir) # function to get the corresponding orientation quaternion from 3D vector direction\n",
    "random_epoch = orbit.epoch.shift(minutes=12) # at this exact epoch, the satellite will be oriented correctly\n",
    "\n",
    "pushed_att_0 = att.push_target(random_epoch, north_quat) # same as command, the ID for the pushed attitude is returned by the function"
   ]
  },
  {
   "source": [
    "But you will probably not use this exact function, because most of the time the desired orientation is not a specific direction, but a direction to something, like the ground (NADIR), Moon, follow a GS, opposite of Sun, etc.\n",
    "\n",
    "Thankfully the library supports this, and this pretty simple."
   ],
   "cell_type": "markdown",
   "metadata": {}
  },
  {
   "cell_type": "code",
   "execution_count": null,
   "metadata": {},
   "outputs": [],
   "source": [
    "random_gs_name = gs[0][\"name\"] # gather the name of the first GS inside list. for later purposes\n",
    "\n",
    "pa1 = att.push_target_antisun(random_epoch) # The satellite will be oriented in the opposite direction of Sun (for avoiding BBQ) at the epoch you give in argument \n",
    "pa2 = att.push_target_moon(random_epoch.shift(minutes=2)) # The satellite will be oriented in the direction of Moon (for calibration) at the epoch you give in argument \n",
    "pa3 = att.push_target_nadir(random_epoch.shift(minutes=4)) # The satellite will be oriented NADIR (camera pointing to ground) at the epoch you give in argument \n",
    "pa4 = att.push_target_limbs_ortho(random_epoch.shift(minutes=6)) # The satellite will be oriented LIMBS (camera pointing perpendicular to ground, and also velocity) at the epoch you give in argument \n",
    "pa5 = att.push_target_limbs_vel(random_epoch.shift(minutes=8)) # The satellite will be oriented NADIR (camera pointing perpendicular to ground, along velocity) at the epoch you give in argument \n",
    "pa6 = att.push_target_gs(random_epoch.shift(minutes=10), random_gs_name) # The satellite will be pointing to the given groundstation (name given in argument), at the epoch you give in argument \n",
    "\n",
    "att.gcrs_target_request # You can always see your pushed targets by accessing the list:"
   ]
  },
  {
   "source": [
    "## Delete attitude\n",
    "Same as command deletion."
   ],
   "cell_type": "markdown",
   "metadata": {}
  },
  {
   "cell_type": "code",
   "execution_count": null,
   "metadata": {},
   "outputs": [],
   "source": [
    "att.del_target(pa3) # ...\n",
    "att.del_target(pa5) # ..."
   ]
  },
  {
   "source": [
    "# Using macros for multiple tasks\n",
    "Now let's say you have a sequence of multiple commands/targets to make in a specific order. And let's say you will have to apply this sequence multiple times in the simulation duration.\n",
    "\n",
    "### Example: a routine for taking pics: you have to rotate the satellite properly, take a few pictures, and then send the pictures...\n",
    "\n",
    "You can make this task very easy to do by using `Macro.`\n",
    "Firstly you create a list of dictionaries, each dictionary contain the action to perform, the RELATIVE time of execution (aka number of seconds after the application of macro), and the arguments for each action.\n",
    "\n",
    "## Ponctual macro application"
   ],
   "cell_type": "markdown",
   "metadata": {}
  },
  {
   "cell_type": "code",
   "execution_count": null,
   "metadata": {},
   "outputs": [],
   "source": [
    "macro_pics_list = [\n",
    "    {\n",
    "        \"fx\": Attitude.push_command,\n",
    "        \"exe_time\": 0,\n",
    "        \"extra_args\": [0, 0, [42, 42.0]] # \"BOOT\"\n",
    "    },\n",
    "    {\n",
    "        \"fx\": Attitude.push_target_limbs_ortho, # rotate to limbs for pictures\n",
    "        \"exe_time\": 10,\n",
    "        \"extra_args\": []\n",
    "    },\n",
    "    {\n",
    "        \"fx\": Attitude.push_command,\n",
    "        \"exe_time\": 45,\n",
    "        \"extra_args\": [1, 0, [69]] # \"TAKE_PIC\" few times in a row\n",
    "    },\n",
    "    {\n",
    "        \"fx\": Attitude.push_command,\n",
    "        \"exe_time\": 50,\n",
    "        \"extra_args\": [1, 0, [69]] # ...\n",
    "    },\n",
    "    {\n",
    "        \"fx\": Attitude.push_command,\n",
    "        \"exe_time\": 55,\n",
    "        \"extra_args\": [1, 0, [69]] # ...\n",
    "    },\n",
    "    {\n",
    "        \"fx\": Attitude.push_command,\n",
    "        \"exe_time\": 60,\n",
    "        \"extra_args\": [2, 1, [True]] # \"SEND_PIC\" \n",
    "    }\n",
    "]\n",
    "\n",
    "macro_pics = Macro(macro_pics_list) # Now we create the macro using the list we created\n",
    "epoch_for_pics = orbit.epoch.shift(minutes=3) # Once again, we give an epoch for when we want to apply the macro\n",
    "macro_pics.apply_macro(att, epoch_for_pics) # Applying, ONCE, the macro to our attitudes. All actions given will be requested at given epoch + execution time given for each action.\n",
    "macro_pics.apply_macro(att, epoch_for_pics.shift(minutes=2)) # .. and once again 12 minutes later\n",
    "macro_pics.apply_macro(att, epoch_for_pics.shift(minutes=4)) # .."
   ]
  },
  {
   "source": [
    "## Periodic macro application\n",
    "You can make the above tasks even more automatic with periodic macros.\n",
    "We are going to take another example: let's say you want to point NADIR for a period of time"
   ],
   "cell_type": "markdown",
   "metadata": {}
  },
  {
   "cell_type": "code",
   "execution_count": null,
   "metadata": {},
   "outputs": [],
   "source": [
    "macro_follow_center_list = [\n",
    "    {\n",
    "        \"fx\": Attitude.push_target_nadir,\n",
    "        \"exe_time\": 0,\n",
    "        \"extra_args\": []\n",
    "    }\n",
    "]\n",
    "\n",
    "epoch_beg = orbit.epoch.shift(minutes=30)\n",
    "epoch_end = epoch_beg.shift(minutes=120)\n",
    "macro_follow_center = Macro(macro_follow_center_list) # Now we create the macro using the list we created\n",
    "macro_follow_center.apply_macro_periodic(att, epoch_beg, epoch_end, 60) # The macro will be applied from the given beg epoch to end epoch, every 60 seconds."
   ]
  },
  {
   "source": [
    "## Ponctual macro application during an event\n",
    "\n",
    "If you need to execute a list of commands once during an event.\n",
    "\n",
    "### Example: Protecting satellite's camera by orientating satellite at Sun's opposite everytime the Sun is visible. And pointing NADIR when Sun not visible anymore."
   ],
   "cell_type": "markdown",
   "metadata": {}
  },
  {
   "cell_type": "code",
   "execution_count": null,
   "metadata": {},
   "outputs": [],
   "source": [
    "macro_protectsun_list = [\n",
    "    {\n",
    "        \"fx\": Attitude.push_target_antisun,\n",
    "        \"exe_time\": 0,\n",
    "        \"extra_args\": []\n",
    "    }\n",
    "]\n",
    "macro_protectsun = Macro(macro_protectsun_list)\n",
    "\n",
    "for ev in simu.sun_events: # looping for every events when sun is visible\n",
    "    macro_protectsun.apply_macro_event(att, ev, relative_exe_time=0.0) # will be executing the macro after a time = 0% of the duration of the event (therefore at the very beggining)\n",
    "    macro_follow_center.apply_macro_event(att, ev, relative_exe_time=1.0) # will be executing the macro after a time = 100% of the duration of the event (therefore at the very end of the event)\n"
   ]
  },
  {
   "source": [
    "## Periodic macro application during an event\n",
    "\n",
    "If you need to execute a list of commands periodically during an event.\n",
    "\n",
    "### Example: Following a specific groundstation each time the satellite sees it"
   ],
   "cell_type": "markdown",
   "metadata": {}
  },
  {
   "cell_type": "code",
   "execution_count": null,
   "metadata": {},
   "outputs": [],
   "source": [
    "gs_random_name = simu.gs[0][\"name\"] # we take the name of the first groundstation in the list, could be anything\n",
    "macro_follow_gs_list = [{\n",
    "        \"fx\": Attitude.push_target_gs,\n",
    "        \"exe_time\": 0,\n",
    "        \"extra_args\": [gs_random_name]\n",
    "    }]\n",
    "macro_follow_gs = Macro(macro_follow_gs_list)\n",
    "\n",
    "for ev in simu.gs_events[gs_random_name]: # looping for every events for a specific groundstation ('gs_random_name' that we definied above)\n",
    "    macro_follow_gs.apply_macro_periodic_event(att, 1, ev) # every second"
   ]
  },
  {
   "source": [
    "# Generating the command list\n",
    "Finally, it is time to generate our command list, that will be ready to be translated to binary and send to satellite!\n",
    "When you are done pushing all your targets/commands, you generate your commands list like this:"
   ],
   "cell_type": "markdown",
   "metadata": {}
  },
  {
   "cell_type": "code",
   "execution_count": null,
   "metadata": {},
   "outputs": [],
   "source": [
    "alerts = att.generate_list_commands()\n",
    "att.generated_commands # The list of generated commands can be found here"
   ]
  },
  {
   "source": [
    "The function returns `True` if command generated correctly, or returns a list of warnings if something dangerous as been encoutered during generation (BBQ detected, for instance)"
   ],
   "cell_type": "markdown",
   "metadata": {}
  },
  {
   "cell_type": "code",
   "execution_count": null,
   "metadata": {
    "tags": [
     "outputPrepend"
    ]
   },
   "outputs": [],
   "source": [
    "if alerts:\n",
    "    print(\"list of commands generated successfully!\")\n",
    "    print(att.generated_commands)\n",
    "else:\n",
    "    print(\"list of commands generated but some warnings prompted:\")\n",
    "    print(alerts)"
   ]
  },
  {
   "source": [
    "And now you just have to save the list of commands as a `.json` file like this:"
   ],
   "cell_type": "markdown",
   "metadata": {}
  },
  {
   "cell_type": "code",
   "execution_count": null,
   "metadata": {},
   "outputs": [],
   "source": [
    "f = open(\"generated_commands.json\", \"w\")\n",
    "str_generated_commands = json.dumps(att.generated_commands) # we stringify the list of commands into .json\n",
    "f.write(str_generated_commands) # and write the string into this file\n",
    "f.close()"
   ]
  },
  {
   "source": [
    "## Files for VTS visualisation\n",
    "\n",
    "And you can finally generate files for VTS (position, orientation, and events for executed commands) like this:"
   ],
   "cell_type": "markdown",
   "metadata": {}
  },
  {
   "cell_type": "code",
   "execution_count": null,
   "metadata": {},
   "outputs": [],
   "source": [
    "f = open(\"vts_pos.txt\", \"w\")\n",
    "f.write(Vts.generate_position(simu))\n",
    "f.close()\n",
    "f = open(\"vts_quat.txt\", \"w\")\n",
    "f.write(Vts.generate_orientation(att))\n",
    "f.close()\n",
    "f = open(\"vts_commands_event.txt\", \"w\")\n",
    "f.write(Vts.generate_commands(att))"
   ]
  },
  {
   "source": [
    "That's it! Now you can go on and converts this file into a binary file, ready to be sent to satellite!"
   ],
   "cell_type": "markdown",
   "metadata": {}
  }
 ]
}